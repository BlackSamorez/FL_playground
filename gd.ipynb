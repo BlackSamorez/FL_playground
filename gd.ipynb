{
 "cells": [
  {
   "cell_type": "code",
   "execution_count": 1,
   "metadata": {},
   "outputs": [],
   "source": [
    "import torch\n",
    "import MiniFL as mfl"
   ]
  },
  {
   "cell_type": "code",
   "execution_count": 2,
   "metadata": {},
   "outputs": [],
   "source": [
    "def run_client(i:int, client: mfl.algorithms.gd.Client):\n",
    "    for _ in range(100):\n",
    "        loss = client.send_grad_get_loss()\n",
    "        # print(f\"Client {i}: {loss}\")\n",
    "        client.apply_global_step()\n",
    "        \n",
    "def run_master(master: mfl.algorithms.gd.Master):\n",
    "    for i in range(100):\n",
    "        print(f\"Master: {master.round()}\")"
   ]
  },
  {
   "cell_type": "code",
   "execution_count": 3,
   "metadata": {},
   "outputs": [],
   "source": [
    "from sklearn.datasets import load_svmlight_file\n",
    "\n",
    "NUM_CLIENTS = 20\n",
    "\n",
    "data, labels = load_svmlight_file(\"phishing.txt\")\n",
    "enc_labels = labels.copy()\n",
    "data_dense = data.todense()\n",
    "\n",
    "eval_data = (torch.from_numpy(data_dense).to(torch.float32), torch.from_numpy(enc_labels).to(torch.float32)[:, None])\n",
    "clients_data = [(x, y) for x, y in zip(torch.split(eval_data[0], len(eval_data[0]) // NUM_CLIENTS, dim=0), torch.split(eval_data[1], len(eval_data[1]) // NUM_CLIENTS, dim=0))]\n",
    "\n",
    "model = torch.nn.Linear(eval_data[0].shape[1], 1, bias=False)\n",
    "loss_fn = torch.nn.BCEWithLogitsLoss()\n",
    "\n",
    "master, clients = mfl.algorithms.gd.get_master_and_clients(\n",
    "    lr=200,\n",
    "    clients_data=clients_data,\n",
    "    eval_data=eval_data,\n",
    "    model=model,\n",
    "    loss_fn=loss_fn,\n",
    ")"
   ]
  },
  {
   "cell_type": "code",
   "execution_count": 4,
   "metadata": {},
   "outputs": [
    {
     "name": "stdout",
     "output_type": "stream",
     "text": [
      "Master: 0.682962954044342\n",
      "Master: 0.6829753518104553\n",
      "Master: 0.6820846796035767\n",
      "Master: 0.680315375328064\n",
      "Master: 0.6803724765777588\n",
      "Master: 0.6803614497184753\n",
      "Master: 0.6839784383773804\n",
      "Master: 0.685096025466919\n",
      "Master: 0.685072660446167\n",
      "Master: 0.6837006211280823\n",
      "Master: 0.6840313673019409\n",
      "Master: 0.6838663816452026\n",
      "Master: 0.6838663816452026\n",
      "Master: 0.6839240193367004\n",
      "Master: 0.6839357018470764\n",
      "Master: 0.6845172643661499\n",
      "Master: 0.684398353099823\n",
      "Master: 0.6845191717147827\n",
      "Master: 0.6790302991867065\n",
      "Master: 0.6791834235191345\n",
      "Master: 0.6787835955619812\n",
      "Master: 0.6778480410575867\n",
      "Master: 0.6787332892417908\n",
      "Master: 0.678732693195343\n",
      "Master: 0.6787346005439758\n",
      "Master: 0.6786686778068542\n",
      "Master: 0.6676605343818665\n",
      "Master: 0.6680176258087158\n",
      "Master: 0.6661996245384216\n",
      "Master: 0.6661432981491089\n",
      "Master: 0.6662565469741821\n",
      "Master: 0.665495753288269\n",
      "Master: 0.6656352281570435\n",
      "Master: 0.664916455745697\n",
      "Master: 0.6657066941261292\n",
      "Master: 0.6654624342918396\n",
      "Master: 0.6646496653556824\n",
      "Master: 0.6568845510482788\n",
      "Master: 0.6570061445236206\n",
      "Master: 0.6570335030555725\n",
      "Master: 0.657045841217041\n",
      "Master: 0.6572924852371216\n",
      "Master: 0.6553988456726074\n",
      "Master: 0.6574903130531311\n",
      "Master: 0.6575037837028503\n",
      "Master: 0.6575037837028503\n",
      "Master: 0.6580429673194885\n",
      "Master: 0.658050000667572\n",
      "Master: 0.6581065058708191\n",
      "Master: 0.6581041216850281\n",
      "Master: 0.658176600933075\n",
      "Master: 0.6582594513893127\n",
      "Master: 0.6586722135543823\n",
      "Master: 0.6577417850494385\n",
      "Master: 0.6464715003967285\n",
      "Master: 0.6466554403305054\n",
      "Master: 0.6468501687049866\n",
      "Master: 0.646824300289154\n",
      "Master: 0.6469823718070984\n",
      "Master: 0.6471420526504517\n",
      "Master: 0.6473436951637268\n",
      "Master: 0.6363086700439453\n",
      "Master: 0.6358844637870789\n",
      "Master: 0.6360380053520203\n",
      "Master: 0.6351738572120667\n",
      "Master: 0.6353532075881958\n",
      "Master: 0.6353663206100464\n",
      "Master: 0.6353672742843628\n",
      "Master: 0.6324131488800049\n",
      "Master: 0.6328427791595459\n",
      "Master: 0.6323771476745605\n",
      "Master: 0.6321940422058105\n",
      "Master: 0.6329925060272217\n",
      "Master: 0.6329461932182312\n",
      "Master: 0.6330481171607971\n",
      "Master: 0.6337473392486572\n",
      "Master: 0.623131513595581\n",
      "Master: 0.6128875017166138\n",
      "Master: 0.6127907037734985\n",
      "Master: 0.6129321455955505\n",
      "Master: 0.6141778230667114\n",
      "Master: 0.6143496036529541\n",
      "Master: 0.6042647361755371\n",
      "Master: 0.6050682067871094\n",
      "Master: 0.5980611443519592\n",
      "Master: 0.5974344611167908\n",
      "Master: 0.5975305438041687\n",
      "Master: 0.5932430624961853\n",
      "Master: 0.592561662197113\n",
      "Master: 0.5926840901374817\n",
      "Master: 0.5931782126426697\n",
      "Master: 0.5943933725357056\n",
      "Master: 0.5936453938484192\n",
      "Master: 0.5936192870140076\n",
      "Master: 0.5917903184890747\n",
      "Master: 0.5917903184890747\n",
      "Master: 0.5917903184890747\n",
      "Master: 0.5921844840049744\n",
      "Master: 0.5917772054672241\n",
      "Master: 0.591090202331543\n"
     ]
    }
   ],
   "source": [
    "import threading\n",
    "\n",
    "client_threads = []\n",
    "for i, client in enumerate(clients):\n",
    "    client_threads.append(threading.Thread(target=run_client, args=(i, client)))\n",
    "    client_threads[-1].start()\n",
    "    \n",
    "master_thread = threading.Thread(target=run_master, args=(master,))\n",
    "master_thread.start()\n",
    "\n",
    "master_thread.join()\n",
    "for t in client_threads:\n",
    "    t.join()\n",
    "    \n"
   ]
  },
  {
   "cell_type": "code",
   "execution_count": 5,
   "metadata": {},
   "outputs": [
    {
     "data": {
      "text/plain": [
       "400.0"
      ]
     },
     "execution_count": 5,
     "metadata": {},
     "output_type": "execute_result"
    }
   ],
   "source": [
    "clients[0].data_sender.n_bits_passed"
   ]
  }
 ],
 "metadata": {
  "kernelspec": {
   "display_name": "tp",
   "language": "python",
   "name": "python3"
  },
  "language_info": {
   "codemirror_mode": {
    "name": "ipython",
    "version": 3
   },
   "file_extension": ".py",
   "mimetype": "text/x-python",
   "name": "python",
   "nbconvert_exporter": "python",
   "pygments_lexer": "ipython3",
   "version": "3.11.4"
  },
  "orig_nbformat": 4
 },
 "nbformat": 4,
 "nbformat_minor": 2
}
