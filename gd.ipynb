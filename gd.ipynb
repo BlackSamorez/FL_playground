{
 "cells": [
  {
   "cell_type": "code",
   "execution_count": 1,
   "metadata": {},
   "outputs": [],
   "source": [
    "import torch\n",
    "import MiniFL as mfl"
   ]
  },
  {
   "cell_type": "code",
   "execution_count": 2,
   "metadata": {},
   "outputs": [],
   "source": [
    "def run_client(i:int, client: mfl.algorithms.gd.GDClient):\n",
    "    for _ in range(100):\n",
    "        _ = client.step()\n",
    "        \n",
    "def run_master(master: mfl.algorithms.gd.GDMaster):\n",
    "    for i in range(100):\n",
    "        print(f\"Master: {master.step()}\")"
   ]
  },
  {
   "cell_type": "code",
   "execution_count": 6,
   "metadata": {},
   "outputs": [],
   "source": [
    "from sklearn.datasets import load_svmlight_file\n",
    "\n",
    "NUM_CLIENTS = 20\n",
    "\n",
    "data, labels = load_svmlight_file(\"phishing.txt\")\n",
    "enc_labels = labels.copy()\n",
    "data_dense = data.todense()\n",
    "\n",
    "eval_data = (torch.from_numpy(data_dense).to(torch.float32), torch.from_numpy(enc_labels).to(torch.float32)[:, None])\n",
    "clients_data = [(x, y) for x, y in zip(torch.split(eval_data[0], len(eval_data[0]) // NUM_CLIENTS, dim=0), torch.split(eval_data[1], len(eval_data[1]) // NUM_CLIENTS, dim=0))]\n",
    "\n",
    "model = torch.nn.Linear(eval_data[0].shape[1], 1, bias=False)\n",
    "loss_fn = torch.nn.BCEWithLogitsLoss()\n",
    "\n",
    "master, clients = mfl.algorithms.gd.get_gd_master_and_clients(\n",
    "    gamma=5,\n",
    "    clients_data=clients_data,\n",
    "    eval_data=eval_data,\n",
    "    model=model,\n",
    "    loss_fn=loss_fn,\n",
    ")"
   ]
  },
  {
   "cell_type": "code",
   "execution_count": 7,
   "metadata": {},
   "outputs": [
    {
     "name": "stdout",
     "output_type": "stream",
     "text": [
      "Master: 0.6952351331710815\n",
      "Master: 0.6943375468254089\n",
      "Master: 0.6934394836425781\n",
      "Master: 0.6925405859947205\n",
      "Master: 0.6916408538818359\n",
      "Master: 0.6907404661178589\n",
      "Master: 0.6898391842842102\n",
      "Master: 0.6889371275901794\n",
      "Master: 0.6880343556404114\n",
      "Master: 0.687130868434906\n",
      "Master: 0.6862267255783081\n",
      "Master: 0.6853218674659729\n",
      "Master: 0.6844167113304138\n",
      "Master: 0.683510959148407\n",
      "Master: 0.6826048493385315\n",
      "Master: 0.6816985011100769\n",
      "Master: 0.6807920336723328\n",
      "Master: 0.6798854470252991\n",
      "Master: 0.6789789795875549\n",
      "Master: 0.6780725121498108\n",
      "Master: 0.6771662831306458\n",
      "Master: 0.6762604117393494\n",
      "Master: 0.6753549575805664\n",
      "Master: 0.6744500398635864\n",
      "Master: 0.673545777797699\n",
      "Master: 0.6726422309875488\n",
      "Master: 0.6717395186424255\n",
      "Master: 0.6708377599716187\n",
      "Master: 0.669937014579773\n",
      "Master: 0.669037401676178\n",
      "Master: 0.6681390404701233\n",
      "Master: 0.6672418117523193\n",
      "Master: 0.6663461923599243\n",
      "Master: 0.6654519438743591\n",
      "Master: 0.6645591855049133\n",
      "Master: 0.6636682152748108\n",
      "Master: 0.6627788543701172\n",
      "Master: 0.6618914008140564\n",
      "Master: 0.6610057950019836\n",
      "Master: 0.6601220369338989\n",
      "Master: 0.6592403054237366\n",
      "Master: 0.6583607196807861\n",
      "Master: 0.6574831604957581\n",
      "Master: 0.6566078662872314\n",
      "Master: 0.6557348370552063\n",
      "Master: 0.6548641324043274\n",
      "Master: 0.6539956331253052\n",
      "Master: 0.6531296968460083\n",
      "Master: 0.6522662043571472\n",
      "Master: 0.6514051556587219\n",
      "Master: 0.650546669960022\n",
      "Master: 0.6496908664703369\n",
      "Master: 0.6488375067710876\n",
      "Master: 0.647986888885498\n",
      "Master: 0.6471390128135681\n",
      "Master: 0.6462938785552979\n",
      "Master: 0.6454514265060425\n",
      "Master: 0.6446118354797363\n",
      "Master: 0.6437749862670898\n",
      "Master: 0.6429409980773926\n",
      "Master: 0.6421099305152893\n",
      "Master: 0.6412817239761353\n",
      "Master: 0.6404564380645752\n",
      "Master: 0.6396340131759644\n",
      "Master: 0.6388146281242371\n",
      "Master: 0.6379982233047485\n",
      "Master: 0.6371846795082092\n",
      "Master: 0.6363741755485535\n",
      "Master: 0.6355667114257812\n",
      "Master: 0.6347622871398926\n",
      "Master: 0.6339609026908875\n",
      "Master: 0.6331623792648315\n",
      "Master: 0.6323671340942383\n",
      "Master: 0.6315747499465942\n",
      "Master: 0.6307854652404785\n",
      "Master: 0.6299992203712463\n",
      "Master: 0.6292161345481873\n",
      "Master: 0.6284360289573669\n",
      "Master: 0.6276590824127197\n",
      "Master: 0.6268851161003113\n",
      "Master: 0.6261142492294312\n",
      "Master: 0.6253464818000793\n",
      "Master: 0.6245816946029663\n",
      "Master: 0.6238200664520264\n",
      "Master: 0.6230613589286804\n",
      "Master: 0.6223058700561523\n",
      "Master: 0.621553361415863\n",
      "Master: 0.6208038926124573\n",
      "Master: 0.6200575232505798\n",
      "Master: 0.6193140745162964\n",
      "Master: 0.618573784828186\n",
      "Master: 0.6178364157676697\n",
      "Master: 0.6171022057533264\n",
      "Master: 0.6163709759712219\n",
      "Master: 0.6156426668167114\n",
      "Master: 0.6149173974990845\n",
      "Master: 0.6141951084136963\n",
      "Master: 0.6134759187698364\n",
      "Master: 0.6127595901489258\n",
      "Master: 0.6120461821556091\n"
     ]
    }
   ],
   "source": [
    "import threading\n",
    "\n",
    "client_threads = []\n",
    "for i, client in enumerate(clients):\n",
    "    client_threads.append(threading.Thread(target=run_client, args=(i, client)))\n",
    "    client_threads[-1].start()\n",
    "    \n",
    "master_thread = threading.Thread(target=run_master, args=(master,))\n",
    "master_thread.start()\n",
    "\n",
    "master_thread.join()\n",
    "for t in client_threads:\n",
    "    t.join()\n",
    "    \n"
   ]
  },
  {
   "cell_type": "code",
   "execution_count": 8,
   "metadata": {},
   "outputs": [
    {
     "data": {
      "text/plain": [
       "217600"
      ]
     },
     "execution_count": 8,
     "metadata": {},
     "output_type": "execute_result"
    }
   ],
   "source": [
    "clients[0].data_sender.n_bits_passed"
   ]
  }
 ],
 "metadata": {
  "kernelspec": {
   "display_name": "tp",
   "language": "python",
   "name": "python3"
  },
  "language_info": {
   "codemirror_mode": {
    "name": "ipython",
    "version": 3
   },
   "file_extension": ".py",
   "mimetype": "text/x-python",
   "name": "python",
   "nbconvert_exporter": "python",
   "pygments_lexer": "ipython3",
   "version": "3.11.4"
  },
  "orig_nbformat": 4
 },
 "nbformat": 4,
 "nbformat_minor": 2
}
