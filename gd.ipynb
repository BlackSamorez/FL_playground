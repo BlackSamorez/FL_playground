{
 "cells": [
  {
   "cell_type": "code",
   "execution_count": 1,
   "metadata": {},
   "outputs": [],
   "source": [
    "import torch\n",
    "torch.set_num_threads(1)\n",
    "import MiniFL as mfl"
   ]
  },
  {
   "cell_type": "code",
   "execution_count": 2,
   "metadata": {},
   "outputs": [],
   "source": [
    "NUM_CLIENTS = 10\n",
    "NUM_FEATURES = 300"
   ]
  },
  {
   "cell_type": "code",
   "execution_count": 3,
   "metadata": {},
   "outputs": [],
   "source": [
    "def get_task():\n",
    "    return mfl.tasks.get_w8a_regression_fns(\n",
    "        data_path=\"w8a\",\n",
    "        num_clients=NUM_CLIENTS,\n",
    "        batch_size=-1,\n",
    "    )"
   ]
  },
  {
   "cell_type": "code",
   "execution_count": 4,
   "metadata": {},
   "outputs": [
    {
     "name": "stderr",
     "output_type": "stream",
     "text": [
      "Process SpawnPoolWorker-4:\n",
      "Traceback (most recent call last):\n",
      "  File \"/home/black_samorez/MiniFL/.conda/lib/python3.11/multiprocessing/process.py\", line 314, in _bootstrap\n",
      "    self.run()\n",
      "  File \"/home/black_samorez/MiniFL/.conda/lib/python3.11/multiprocessing/process.py\", line 108, in run\n",
      "    self._target(*self._args, **self._kwargs)\n",
      "  File \"/home/black_samorez/MiniFL/.conda/lib/python3.11/multiprocessing/pool.py\", line 114, in worker\n",
      "    task = get()\n",
      "           ^^^^^\n",
      "  File \"/home/black_samorez/MiniFL/.conda/lib/python3.11/multiprocessing/queues.py\", line 367, in get\n",
      "    return _ForkingPickler.loads(res)\n",
      "           ^^^^^^^^^^^^^^^^^^^^^^^^^^\n",
      "  File \"/home/black_samorez/MiniFL/src/MiniFL/__init__.py\", line 1, in <module>\n",
      "    from . import algorithms, compressors, fn, tasks\n",
      "  File \"/home/black_samorez/MiniFL/src/MiniFL/algorithms/__init__.py\", line 1, in <module>\n",
      "    from . import cocktailsgd, gd, marina\n",
      "  File \"/home/black_samorez/MiniFL/src/MiniFL/algorithms/cocktailsgd.py\", line 10, in <module>\n",
      "    from .interfaces import Client, Master\n",
      "  File \"/home/black_samorez/MiniFL/src/MiniFL/algorithms/interfaces.py\", line 2, in <module>\n",
      "    multiprocessing.set_start_method('spawn')\n",
      "  File \"/home/black_samorez/MiniFL/.conda/lib/python3.11/multiprocessing/context.py\", line 247, in set_start_method\n",
      "    raise RuntimeError('context has already been set')\n",
      "RuntimeError: context has already been set\n",
      "Process SpawnPoolWorker-2:\n",
      "Process SpawnPoolWorker-3:\n",
      "Traceback (most recent call last):\n",
      "Traceback (most recent call last):\n",
      "  File \"/home/black_samorez/MiniFL/.conda/lib/python3.11/multiprocessing/process.py\", line 314, in _bootstrap\n",
      "    self.run()\n",
      "  File \"/home/black_samorez/MiniFL/.conda/lib/python3.11/multiprocessing/process.py\", line 108, in run\n",
      "    self._target(*self._args, **self._kwargs)\n",
      "  File \"/home/black_samorez/MiniFL/.conda/lib/python3.11/multiprocessing/pool.py\", line 114, in worker\n",
      "    task = get()\n",
      "           ^^^^^\n",
      "  File \"/home/black_samorez/MiniFL/.conda/lib/python3.11/multiprocessing/queues.py\", line 367, in get\n",
      "    return _ForkingPickler.loads(res)\n",
      "           ^^^^^^^^^^^^^^^^^^^^^^^^^^\n",
      "  File \"/home/black_samorez/MiniFL/src/MiniFL/__init__.py\", line 1, in <module>\n",
      "    from . import algorithms, compressors, fn, tasks\n",
      "  File \"/home/black_samorez/MiniFL/src/MiniFL/algorithms/__init__.py\", line 1, in <module>\n",
      "    from . import cocktailsgd, gd, marina\n",
      "  File \"/home/black_samorez/MiniFL/src/MiniFL/algorithms/cocktailsgd.py\", line 10, in <module>\n",
      "    from .interfaces import Client, Master\n",
      "  File \"/home/black_samorez/MiniFL/src/MiniFL/algorithms/interfaces.py\", line 2, in <module>\n",
      "    multiprocessing.set_start_method('spawn')\n",
      "  File \"/home/black_samorez/MiniFL/.conda/lib/python3.11/multiprocessing/context.py\", line 247, in set_start_method\n",
      "    raise RuntimeError('context has already been set')\n",
      "RuntimeError: context has already been set\n",
      "  File \"/home/black_samorez/MiniFL/.conda/lib/python3.11/multiprocessing/process.py\", line 314, in _bootstrap\n",
      "    self.run()\n",
      "  File \"/home/black_samorez/MiniFL/.conda/lib/python3.11/multiprocessing/process.py\", line 108, in run\n",
      "    self._target(*self._args, **self._kwargs)\n",
      "  File \"/home/black_samorez/MiniFL/.conda/lib/python3.11/multiprocessing/pool.py\", line 114, in worker\n",
      "    task = get()\n",
      "           ^^^^^\n",
      "  File \"/home/black_samorez/MiniFL/.conda/lib/python3.11/multiprocessing/queues.py\", line 367, in get\n",
      "    return _ForkingPickler.loads(res)\n",
      "           ^^^^^^^^^^^^^^^^^^^^^^^^^^\n",
      "  File \"/home/black_samorez/MiniFL/src/MiniFL/__init__.py\", line 1, in <module>\n",
      "    from . import algorithms, compressors, fn, tasks\n",
      "  File \"/home/black_samorez/MiniFL/src/MiniFL/algorithms/__init__.py\", line 1, in <module>\n",
      "    from . import cocktailsgd, gd, marina\n",
      "  File \"/home/black_samorez/MiniFL/src/MiniFL/algorithms/cocktailsgd.py\", line 10, in <module>\n",
      "    from .interfaces import Client, Master\n",
      "  File \"/home/black_samorez/MiniFL/src/MiniFL/algorithms/interfaces.py\", line 2, in <module>\n",
      "    multiprocessing.set_start_method('spawn')\n",
      "  File \"/home/black_samorez/MiniFL/.conda/lib/python3.11/multiprocessing/context.py\", line 247, in set_start_method\n",
      "    raise RuntimeError('context has already been set')\n",
      "RuntimeError: context has already been set\n",
      "Process SpawnPoolWorker-9:\n",
      "Traceback (most recent call last):\n",
      "  File \"/home/black_samorez/MiniFL/.conda/lib/python3.11/multiprocessing/process.py\", line 314, in _bootstrap\n",
      "    self.run()\n",
      "  File \"/home/black_samorez/MiniFL/.conda/lib/python3.11/multiprocessing/process.py\", line 108, in run\n",
      "    self._target(*self._args, **self._kwargs)\n",
      "  File \"/home/black_samorez/MiniFL/.conda/lib/python3.11/multiprocessing/pool.py\", line 114, in worker\n",
      "    task = get()\n",
      "           ^^^^^\n",
      "  File \"/home/black_samorez/MiniFL/.conda/lib/python3.11/multiprocessing/queues.py\", line 367, in get\n",
      "    return _ForkingPickler.loads(res)\n",
      "           ^^^^^^^^^^^^^^^^^^^^^^^^^^\n",
      "  File \"/home/black_samorez/MiniFL/src/MiniFL/__init__.py\", line 1, in <module>\n",
      "    from . import algorithms, compressors, fn, tasks\n",
      "  File \"/home/black_samorez/MiniFL/src/MiniFL/algorithms/__init__.py\", line 1, in <module>\n",
      "    from . import cocktailsgd, gd, marina\n",
      "  File \"/home/black_samorez/MiniFL/src/MiniFL/algorithms/cocktailsgd.py\", line 10, in <module>\n",
      "    from .interfaces import Client, Master\n",
      "  File \"/home/black_samorez/MiniFL/src/MiniFL/algorithms/interfaces.py\", line 2, in <module>\n",
      "    multiprocessing.set_start_method('spawn')\n",
      "  File \"/home/black_samorez/MiniFL/.conda/lib/python3.11/multiprocessing/context.py\", line 247, in set_start_method\n",
      "    raise RuntimeError('context has already been set')\n",
      "RuntimeError: context has already been set\n",
      "Process SpawnPoolWorker-7:\n",
      "Traceback (most recent call last):\n",
      "  File \"/home/black_samorez/MiniFL/.conda/lib/python3.11/multiprocessing/process.py\", line 314, in _bootstrap\n",
      "    self.run()\n",
      "  File \"/home/black_samorez/MiniFL/.conda/lib/python3.11/multiprocessing/process.py\", line 108, in run\n",
      "    self._target(*self._args, **self._kwargs)\n",
      "  File \"/home/black_samorez/MiniFL/.conda/lib/python3.11/multiprocessing/pool.py\", line 114, in worker\n",
      "    task = get()\n",
      "           ^^^^^\n",
      "  File \"/home/black_samorez/MiniFL/.conda/lib/python3.11/multiprocessing/queues.py\", line 367, in get\n",
      "    return _ForkingPickler.loads(res)\n",
      "           ^^^^^^^^^^^^^^^^^^^^^^^^^^\n",
      "  File \"/home/black_samorez/MiniFL/src/MiniFL/__init__.py\", line 1, in <module>\n",
      "    from . import algorithms, compressors, fn, tasks\n",
      "  File \"/home/black_samorez/MiniFL/src/MiniFL/algorithms/__init__.py\", line 1, in <module>\n",
      "    from . import cocktailsgd, gd, marina\n",
      "  File \"/home/black_samorez/MiniFL/src/MiniFL/algorithms/cocktailsgd.py\", line 10, in <module>\n",
      "    from .interfaces import Client, Master\n",
      "  File \"/home/black_samorez/MiniFL/src/MiniFL/algorithms/interfaces.py\", line 2, in <module>\n",
      "    multiprocessing.set_start_method('spawn')\n",
      "  File \"/home/black_samorez/MiniFL/.conda/lib/python3.11/multiprocessing/context.py\", line 247, in set_start_method\n",
      "    raise RuntimeError('context has already been set')\n",
      "RuntimeError: context has already been set\n",
      "Process SpawnPoolWorker-8:\n",
      "Traceback (most recent call last):\n",
      "  File \"/home/black_samorez/MiniFL/.conda/lib/python3.11/multiprocessing/process.py\", line 314, in _bootstrap\n",
      "    self.run()\n",
      "  File \"/home/black_samorez/MiniFL/.conda/lib/python3.11/multiprocessing/process.py\", line 108, in run\n",
      "    self._target(*self._args, **self._kwargs)\n",
      "  File \"/home/black_samorez/MiniFL/.conda/lib/python3.11/multiprocessing/pool.py\", line 114, in worker\n",
      "    task = get()\n",
      "           ^^^^^\n",
      "  File \"/home/black_samorez/MiniFL/.conda/lib/python3.11/multiprocessing/queues.py\", line 367, in get\n",
      "    return _ForkingPickler.loads(res)\n",
      "           ^^^^^^^^^^^^^^^^^^^^^^^^^^\n",
      "  File \"/home/black_samorez/MiniFL/src/MiniFL/__init__.py\", line 1, in <module>\n",
      "    from . import algorithms, compressors, fn, tasks\n",
      "  File \"/home/black_samorez/MiniFL/src/MiniFL/algorithms/__init__.py\", line 1, in <module>\n",
      "    from . import cocktailsgd, gd, marina\n",
      "  File \"/home/black_samorez/MiniFL/src/MiniFL/algorithms/cocktailsgd.py\", line 10, in <module>\n",
      "    from .interfaces import Client, Master\n",
      "  File \"/home/black_samorez/MiniFL/src/MiniFL/algorithms/interfaces.py\", line 2, in <module>\n",
      "    multiprocessing.set_start_method('spawn')\n",
      "  File \"/home/black_samorez/MiniFL/.conda/lib/python3.11/multiprocessing/context.py\", line 247, in set_start_method\n",
      "    raise RuntimeError('context has already been set')\n",
      "RuntimeError: context has already been set\n",
      "Process SpawnPoolWorker-6:\n",
      "Traceback (most recent call last):\n",
      "  File \"/home/black_samorez/MiniFL/.conda/lib/python3.11/multiprocessing/process.py\", line 314, in _bootstrap\n",
      "    self.run()\n",
      "  File \"/home/black_samorez/MiniFL/.conda/lib/python3.11/multiprocessing/process.py\", line 108, in run\n",
      "    self._target(*self._args, **self._kwargs)\n",
      "  File \"/home/black_samorez/MiniFL/.conda/lib/python3.11/multiprocessing/pool.py\", line 114, in worker\n",
      "    task = get()\n",
      "           ^^^^^\n",
      "  File \"/home/black_samorez/MiniFL/.conda/lib/python3.11/multiprocessing/queues.py\", line 367, in get\n",
      "    return _ForkingPickler.loads(res)\n",
      "           ^^^^^^^^^^^^^^^^^^^^^^^^^^\n",
      "  File \"/home/black_samorez/MiniFL/src/MiniFL/__init__.py\", line 1, in <module>\n",
      "    from . import algorithms, compressors, fn, tasks\n",
      "  File \"/home/black_samorez/MiniFL/src/MiniFL/algorithms/__init__.py\", line 1, in <module>\n",
      "    from . import cocktailsgd, gd, marina\n",
      "  File \"/home/black_samorez/MiniFL/src/MiniFL/algorithms/cocktailsgd.py\", line 10, in <module>\n",
      "    from .interfaces import Client, Master\n",
      "  File \"/home/black_samorez/MiniFL/src/MiniFL/algorithms/interfaces.py\", line 2, in <module>\n",
      "    multiprocessing.set_start_method('spawn')\n",
      "  File \"/home/black_samorez/MiniFL/.conda/lib/python3.11/multiprocessing/context.py\", line 247, in set_start_method\n",
      "    raise RuntimeError('context has already been set')\n",
      "RuntimeError: context has already been set\n",
      "Process SpawnPoolWorker-10:\n",
      "Traceback (most recent call last):\n",
      "  File \"/home/black_samorez/MiniFL/.conda/lib/python3.11/multiprocessing/process.py\", line 314, in _bootstrap\n",
      "    self.run()\n",
      "  File \"/home/black_samorez/MiniFL/.conda/lib/python3.11/multiprocessing/process.py\", line 108, in run\n",
      "    self._target(*self._args, **self._kwargs)\n",
      "  File \"/home/black_samorez/MiniFL/.conda/lib/python3.11/multiprocessing/pool.py\", line 114, in worker\n",
      "    task = get()\n",
      "           ^^^^^\n",
      "  File \"/home/black_samorez/MiniFL/.conda/lib/python3.11/multiprocessing/queues.py\", line 367, in get\n",
      "    return _ForkingPickler.loads(res)\n",
      "           ^^^^^^^^^^^^^^^^^^^^^^^^^^\n",
      "  File \"/home/black_samorez/MiniFL/src/MiniFL/__init__.py\", line 1, in <module>\n",
      "    from . import algorithms, compressors, fn, tasks\n",
      "  File \"/home/black_samorez/MiniFL/src/MiniFL/algorithms/__init__.py\", line 1, in <module>\n",
      "    from . import cocktailsgd, gd, marina\n",
      "  File \"/home/black_samorez/MiniFL/src/MiniFL/algorithms/cocktailsgd.py\", line 10, in <module>\n",
      "    from .interfaces import Client, Master\n",
      "  File \"/home/black_samorez/MiniFL/src/MiniFL/algorithms/interfaces.py\", line 2, in <module>\n",
      "    multiprocessing.set_start_method('spawn')\n",
      "  File \"/home/black_samorez/MiniFL/.conda/lib/python3.11/multiprocessing/context.py\", line 247, in set_start_method\n",
      "    raise RuntimeError('context has already been set')\n",
      "RuntimeError: context has already been set\n",
      "Process SpawnPoolWorker-5:\n",
      "Traceback (most recent call last):\n",
      "  File \"/home/black_samorez/MiniFL/.conda/lib/python3.11/multiprocessing/process.py\", line 314, in _bootstrap\n",
      "    self.run()\n",
      "  File \"/home/black_samorez/MiniFL/.conda/lib/python3.11/multiprocessing/process.py\", line 108, in run\n",
      "    self._target(*self._args, **self._kwargs)\n",
      "  File \"/home/black_samorez/MiniFL/.conda/lib/python3.11/multiprocessing/pool.py\", line 114, in worker\n",
      "    task = get()\n",
      "           ^^^^^\n",
      "  File \"/home/black_samorez/MiniFL/.conda/lib/python3.11/multiprocessing/queues.py\", line 367, in get\n",
      "    return _ForkingPickler.loads(res)\n",
      "           ^^^^^^^^^^^^^^^^^^^^^^^^^^\n",
      "  File \"/home/black_samorez/MiniFL/src/MiniFL/__init__.py\", line 1, in <module>\n",
      "    from . import algorithms, compressors, fn, tasks\n",
      "  File \"/home/black_samorez/MiniFL/src/MiniFL/algorithms/__init__.py\", line 1, in <module>\n",
      "    from . import cocktailsgd, gd, marina\n",
      "  File \"/home/black_samorez/MiniFL/src/MiniFL/algorithms/cocktailsgd.py\", line 10, in <module>\n",
      "    from .interfaces import Client, Master\n",
      "  File \"/home/black_samorez/MiniFL/src/MiniFL/algorithms/interfaces.py\", line 2, in <module>\n",
      "    multiprocessing.set_start_method('spawn')\n",
      "  File \"/home/black_samorez/MiniFL/.conda/lib/python3.11/multiprocessing/context.py\", line 247, in set_start_method\n",
      "    raise RuntimeError('context has already been set')\n",
      "RuntimeError: context has already been set\n",
      "Process SpawnPoolWorker-11:\n",
      "Traceback (most recent call last):\n",
      "  File \"/home/black_samorez/MiniFL/.conda/lib/python3.11/multiprocessing/process.py\", line 314, in _bootstrap\n",
      "    self.run()\n",
      "  File \"/home/black_samorez/MiniFL/.conda/lib/python3.11/multiprocessing/process.py\", line 108, in run\n",
      "    self._target(*self._args, **self._kwargs)\n",
      "  File \"/home/black_samorez/MiniFL/.conda/lib/python3.11/multiprocessing/pool.py\", line 114, in worker\n",
      "    task = get()\n",
      "           ^^^^^\n",
      "  File \"/home/black_samorez/MiniFL/.conda/lib/python3.11/multiprocessing/queues.py\", line 367, in get\n",
      "    return _ForkingPickler.loads(res)\n",
      "           ^^^^^^^^^^^^^^^^^^^^^^^^^^\n",
      "  File \"/home/black_samorez/MiniFL/src/MiniFL/__init__.py\", line 1, in <module>\n",
      "    from . import algorithms, compressors, fn, tasks\n",
      "  File \"/home/black_samorez/MiniFL/src/MiniFL/algorithms/__init__.py\", line 1, in <module>\n",
      "    from . import cocktailsgd, gd, marina\n",
      "  File \"/home/black_samorez/MiniFL/src/MiniFL/algorithms/cocktailsgd.py\", line 10, in <module>\n",
      "    from .interfaces import Client, Master\n",
      "  File \"/home/black_samorez/MiniFL/src/MiniFL/algorithms/interfaces.py\", line 2, in <module>\n",
      "    multiprocessing.set_start_method('spawn')\n",
      "  File \"/home/black_samorez/MiniFL/.conda/lib/python3.11/multiprocessing/context.py\", line 247, in set_start_method\n",
      "    raise RuntimeError('context has already been set')\n",
      "RuntimeError: context has already been set\n"
     ]
    },
    {
     "ename": "TimeoutError",
     "evalue": "",
     "output_type": "error",
     "traceback": [
      "\u001b[0;31m---------------------------------------------------------------------------\u001b[0m",
      "\u001b[0;31mTimeoutError\u001b[0m                              Traceback (most recent call last)",
      "Cell \u001b[0;32mIn[4], line 11\u001b[0m\n\u001b[1;32m      3\u001b[0m master_fn, client_fns \u001b[39m=\u001b[39m get_task()\n\u001b[1;32m      5\u001b[0m master, clients \u001b[39m=\u001b[39m mfl\u001b[39m.\u001b[39malgorithms\u001b[39m.\u001b[39mget_gd_master_and_clients(\n\u001b[1;32m      6\u001b[0m     master_fn\u001b[39m=\u001b[39mmaster_fn,\n\u001b[1;32m      7\u001b[0m     client_fns\u001b[39m=\u001b[39mclient_fns,\n\u001b[1;32m      8\u001b[0m     gamma_multiplier\u001b[39m=\u001b[39m\u001b[39m1\u001b[39m,\n\u001b[1;32m      9\u001b[0m )\n\u001b[0;32m---> 11\u001b[0m GD_METRICS \u001b[39m=\u001b[39m mfl\u001b[39m.\u001b[39;49malgorithms\u001b[39m.\u001b[39;49mrun_algorithm_with_processes(master, clients, GD_STEPS)\n",
      "File \u001b[0;32m~/MiniFL/src/MiniFL/algorithms/interfaces.py:127\u001b[0m, in \u001b[0;36mrun_algorithm_with_processes\u001b[0;34m(master, clients, num_steps, num_processes)\u001b[0m\n\u001b[1;32m    121\u001b[0m \u001b[39mwith\u001b[39;00m multiprocessing\u001b[39m.\u001b[39mPool(num_processes) \u001b[39mas\u001b[39;00m pool:\n\u001b[1;32m    122\u001b[0m     result \u001b[39m=\u001b[39m pool\u001b[39m.\u001b[39mstarmap_async(\n\u001b[1;32m    123\u001b[0m         worker_process_,\n\u001b[1;32m    124\u001b[0m         [(uplink_queues[i], downlink_queues[i], clients[i::num_processes], num_steps) \u001b[39mfor\u001b[39;00m i \u001b[39min\u001b[39;00m \u001b[39mrange\u001b[39m(num_processes)],\n\u001b[1;32m    125\u001b[0m     )\n\u001b[0;32m--> 127\u001b[0m     result\u001b[39m.\u001b[39;49mget(timeout\u001b[39m=\u001b[39;49m\u001b[39m10\u001b[39;49m)\n\u001b[1;32m    129\u001b[0m     master_process_(uplink_queues, downlink_queues, master, num_steps)\n",
      "File \u001b[0;32m~/MiniFL/.conda/lib/python3.11/multiprocessing/pool.py:770\u001b[0m, in \u001b[0;36mApplyResult.get\u001b[0;34m(self, timeout)\u001b[0m\n\u001b[1;32m    768\u001b[0m \u001b[39mself\u001b[39m\u001b[39m.\u001b[39mwait(timeout)\n\u001b[1;32m    769\u001b[0m \u001b[39mif\u001b[39;00m \u001b[39mnot\u001b[39;00m \u001b[39mself\u001b[39m\u001b[39m.\u001b[39mready():\n\u001b[0;32m--> 770\u001b[0m     \u001b[39mraise\u001b[39;00m \u001b[39mTimeoutError\u001b[39;00m\n\u001b[1;32m    771\u001b[0m \u001b[39mif\u001b[39;00m \u001b[39mself\u001b[39m\u001b[39m.\u001b[39m_success:\n\u001b[1;32m    772\u001b[0m     \u001b[39mreturn\u001b[39;00m \u001b[39mself\u001b[39m\u001b[39m.\u001b[39m_value\n",
      "\u001b[0;31mTimeoutError\u001b[0m: "
     ]
    }
   ],
   "source": [
    "GD_STEPS = 100\n",
    "\n",
    "master_fn, client_fns = get_task()\n",
    "\n",
    "master, clients = mfl.algorithms.get_gd_master_and_clients(\n",
    "    master_fn=master_fn,\n",
    "    client_fns=client_fns,\n",
    "    gamma_multiplier=1,\n",
    ")\n",
    "\n",
    "GD_METRICS = mfl.algorithms.run_algorithm_with_processes(master, clients, GD_STEPS)"
   ]
  },
  {
   "cell_type": "code",
   "execution_count": null,
   "metadata": {},
   "outputs": [
    {
     "name": "stderr",
     "output_type": "stream",
     "text": [
      "  0%|          | 0/1000 [00:05<?, ?it/s]\n"
     ]
    },
    {
     "ename": "KeyboardInterrupt",
     "evalue": "",
     "output_type": "error",
     "traceback": [
      "\u001b[0;31m---------------------------------------------------------------------------\u001b[0m",
      "\u001b[0;31mKeyboardInterrupt\u001b[0m                         Traceback (most recent call last)",
      "Cell \u001b[0;32mIn[4], line 13\u001b[0m\n\u001b[1;32m      3\u001b[0m master_fn, client_fns \u001b[39m=\u001b[39m get_task()\n\u001b[1;32m      5\u001b[0m master, clients \u001b[39m=\u001b[39m mfl\u001b[39m.\u001b[39malgorithms\u001b[39m.\u001b[39mget_marina_master_and_clients(\n\u001b[1;32m      6\u001b[0m     master_fn\u001b[39m=\u001b[39mmaster_fn,\n\u001b[1;32m      7\u001b[0m     client_fns\u001b[39m=\u001b[39mclient_fns,\n\u001b[0;32m   (...)\u001b[0m\n\u001b[1;32m     10\u001b[0m     gamma_multiplier\u001b[39m=\u001b[39m\u001b[39m1\u001b[39m,\n\u001b[1;32m     11\u001b[0m )\n\u001b[0;32m---> 13\u001b[0m MARINA_METRICS \u001b[39m=\u001b[39m mfl\u001b[39m.\u001b[39;49malgorithms\u001b[39m.\u001b[39;49mrun_algorithm_with_processes(master, clients, MARINA_STEPS)\n",
      "File \u001b[0;32m~/MiniFL/src/MiniFL/algorithms/interfaces.py:112\u001b[0m, in \u001b[0;36mrun_algorithm_with_processes\u001b[0;34m(master, clients, num_steps, num_processes)\u001b[0m\n\u001b[1;32m    110\u001b[0m sum_worker_tensor \u001b[39m=\u001b[39m torch\u001b[39m.\u001b[39mempty_like(master\u001b[39m.\u001b[39mfn\u001b[39m.\u001b[39mzero_like_grad())\n\u001b[1;32m    111\u001b[0m \u001b[39mfor\u001b[39;00m _ \u001b[39min\u001b[39;00m trange(num_steps):\n\u001b[0;32m--> 112\u001b[0m     sum_worker_tensor \u001b[39m=\u001b[39m aggregator_receiver\u001b[39m.\u001b[39;49mrecieve()\n\u001b[1;32m    113\u001b[0m     msg, master_metrics \u001b[39m=\u001b[39m master\u001b[39m.\u001b[39mstep(sum_worker_tensor)\n\u001b[1;32m    114\u001b[0m     master_metrics\u001b[39m.\u001b[39mtotal_bits_received \u001b[39m=\u001b[39m aggregator_receiver\u001b[39m.\u001b[39mn_bits_passed\n",
      "File \u001b[0;32m~/MiniFL/src/MiniFL/communications.py:36\u001b[0m, in \u001b[0;36mAggregatorReciever.recieve\u001b[0;34m(self)\u001b[0m\n\u001b[1;32m     34\u001b[0m \u001b[39mself\u001b[39m\u001b[39m.\u001b[39mbuffer\u001b[39m.\u001b[39mzero_()\n\u001b[1;32m     35\u001b[0m \u001b[39mfor\u001b[39;00m queue \u001b[39min\u001b[39;00m \u001b[39mself\u001b[39m\u001b[39m.\u001b[39mqueues:\n\u001b[0;32m---> 36\u001b[0m     \u001b[39mself\u001b[39m\u001b[39m.\u001b[39mbuffer \u001b[39m+\u001b[39m\u001b[39m=\u001b[39m queue\u001b[39m.\u001b[39;49mget()\n\u001b[1;32m     37\u001b[0m \u001b[39mreturn\u001b[39;00m \u001b[39mself\u001b[39m\u001b[39m.\u001b[39mbuffer\n",
      "File \u001b[0;32m~/MiniFL/.conda/lib/python3.11/multiprocessing/queues.py:103\u001b[0m, in \u001b[0;36mQueue.get\u001b[0;34m(self, block, timeout)\u001b[0m\n\u001b[1;32m    101\u001b[0m \u001b[39mif\u001b[39;00m block \u001b[39mand\u001b[39;00m timeout \u001b[39mis\u001b[39;00m \u001b[39mNone\u001b[39;00m:\n\u001b[1;32m    102\u001b[0m     \u001b[39mwith\u001b[39;00m \u001b[39mself\u001b[39m\u001b[39m.\u001b[39m_rlock:\n\u001b[0;32m--> 103\u001b[0m         res \u001b[39m=\u001b[39m \u001b[39mself\u001b[39;49m\u001b[39m.\u001b[39;49m_recv_bytes()\n\u001b[1;32m    104\u001b[0m     \u001b[39mself\u001b[39m\u001b[39m.\u001b[39m_sem\u001b[39m.\u001b[39mrelease()\n\u001b[1;32m    105\u001b[0m \u001b[39melse\u001b[39;00m:\n",
      "File \u001b[0;32m~/MiniFL/.conda/lib/python3.11/multiprocessing/connection.py:215\u001b[0m, in \u001b[0;36m_ConnectionBase.recv_bytes\u001b[0;34m(self, maxlength)\u001b[0m\n\u001b[1;32m    213\u001b[0m \u001b[39mif\u001b[39;00m maxlength \u001b[39mis\u001b[39;00m \u001b[39mnot\u001b[39;00m \u001b[39mNone\u001b[39;00m \u001b[39mand\u001b[39;00m maxlength \u001b[39m<\u001b[39m \u001b[39m0\u001b[39m:\n\u001b[1;32m    214\u001b[0m     \u001b[39mraise\u001b[39;00m \u001b[39mValueError\u001b[39;00m(\u001b[39m\"\u001b[39m\u001b[39mnegative maxlength\u001b[39m\u001b[39m\"\u001b[39m)\n\u001b[0;32m--> 215\u001b[0m buf \u001b[39m=\u001b[39m \u001b[39mself\u001b[39;49m\u001b[39m.\u001b[39;49m_recv_bytes(maxlength)\n\u001b[1;32m    216\u001b[0m \u001b[39mif\u001b[39;00m buf \u001b[39mis\u001b[39;00m \u001b[39mNone\u001b[39;00m:\n\u001b[1;32m    217\u001b[0m     \u001b[39mself\u001b[39m\u001b[39m.\u001b[39m_bad_message_length()\n",
      "File \u001b[0;32m~/MiniFL/.conda/lib/python3.11/multiprocessing/connection.py:413\u001b[0m, in \u001b[0;36mConnection._recv_bytes\u001b[0;34m(self, maxsize)\u001b[0m\n\u001b[1;32m    412\u001b[0m \u001b[39mdef\u001b[39;00m \u001b[39m_recv_bytes\u001b[39m(\u001b[39mself\u001b[39m, maxsize\u001b[39m=\u001b[39m\u001b[39mNone\u001b[39;00m):\n\u001b[0;32m--> 413\u001b[0m     buf \u001b[39m=\u001b[39m \u001b[39mself\u001b[39;49m\u001b[39m.\u001b[39;49m_recv(\u001b[39m4\u001b[39;49m)\n\u001b[1;32m    414\u001b[0m     size, \u001b[39m=\u001b[39m struct\u001b[39m.\u001b[39munpack(\u001b[39m\"\u001b[39m\u001b[39m!i\u001b[39m\u001b[39m\"\u001b[39m, buf\u001b[39m.\u001b[39mgetvalue())\n\u001b[1;32m    415\u001b[0m     \u001b[39mif\u001b[39;00m size \u001b[39m==\u001b[39m \u001b[39m-\u001b[39m\u001b[39m1\u001b[39m:\n",
      "File \u001b[0;32m~/MiniFL/.conda/lib/python3.11/multiprocessing/connection.py:378\u001b[0m, in \u001b[0;36mConnection._recv\u001b[0;34m(self, size, read)\u001b[0m\n\u001b[1;32m    376\u001b[0m remaining \u001b[39m=\u001b[39m size\n\u001b[1;32m    377\u001b[0m \u001b[39mwhile\u001b[39;00m remaining \u001b[39m>\u001b[39m \u001b[39m0\u001b[39m:\n\u001b[0;32m--> 378\u001b[0m     chunk \u001b[39m=\u001b[39m read(handle, remaining)\n\u001b[1;32m    379\u001b[0m     n \u001b[39m=\u001b[39m \u001b[39mlen\u001b[39m(chunk)\n\u001b[1;32m    380\u001b[0m     \u001b[39mif\u001b[39;00m n \u001b[39m==\u001b[39m \u001b[39m0\u001b[39m:\n",
      "\u001b[0;31mKeyboardInterrupt\u001b[0m: "
     ]
    }
   ],
   "source": [
    "MARINA_STEPS = 1000\n",
    "\n",
    "master_fn, client_fns = get_task()\n",
    "\n",
    "master, clients = mfl.algorithms.get_marina_master_and_clients(\n",
    "    master_fn=master_fn,\n",
    "    client_fns=client_fns,\n",
    "    compressors=[mfl.compressors.RandKUnbiasedCompressor(NUM_FEATURES, k=1) for _ in range(NUM_CLIENTS)],\n",
    "    p=0.01,\n",
    "    gamma_multiplier=1,\n",
    ")\n",
    "\n",
    "MARINA_METRICS = mfl.algorithms.run_algorithm_with_processes(master, clients, MARINA_STEPS)"
   ]
  },
  {
   "cell_type": "code",
   "execution_count": 6,
   "metadata": {},
   "outputs": [
    {
     "data": {
      "text/plain": [
       "<matplotlib.legend.Legend at 0x7f2a87156c10>"
      ]
     },
     "execution_count": 6,
     "metadata": {},
     "output_type": "execute_result"
    },
    {
     "data": {
      "image/png": "[encoded data removed]",
      "text/plain": [
       "<Figure size 640x480 with 1 Axes>"
      ]
     },
     "metadata": {},
     "output_type": "display_data"
    }
   ],
   "source": [
    "import matplotlib.pyplot as plt\n",
    "\n",
    "plt.plot([metrics.total_bits_received for metrics in GD_METRICS], [metrics.value for metrics in GD_METRICS], label=\"GD\")\n",
    "plt.plot([metrics.total_bits_received for metrics in MARINA_METRICS], [metrics.value for metrics in MARINA_METRICS], label=\"Marina\")\n",
    "# plt.plot([metrics.total_bits_received for metrics in COCKTAIL_METRICS], [metrics.value for metrics in COCKTAIL_METRICS], label=\"Cocktail\")\n",
    "\n",
    "plt.xlabel(\"Bits\")\n",
    "plt.ylabel(\"Loss\")\n",
    "plt.legend()"
   ]
  },
  {
   "cell_type": "code",
   "execution_count": 7,
   "metadata": {},
   "outputs": [
    {
     "data": {
      "text/plain": [
       "<matplotlib.legend.Legend at 0x7f2a871ed450>"
      ]
     },
     "execution_count": 7,
     "metadata": {},
     "output_type": "execute_result"
    },
    {
     "data": {
      "image/png": "[encoded data removed]",
      "text/plain": [
       "<Figure size 640x480 with 1 Axes>"
      ]
     },
     "metadata": {},
     "output_type": "display_data"
    }
   ],
   "source": [
    "import matplotlib.pyplot as plt\n",
    "\n",
    "plt.plot([metrics.total_bits_received/NUM_CLIENTS for metrics in GD_METRICS], [metrics.grad_norm for metrics in GD_METRICS], label=\"GD\")\n",
    "plt.plot([metrics.total_bits_received/NUM_CLIENTS for metrics in MARINA_METRICS], [metrics.grad_norm for metrics in MARINA_METRICS], label=\"Marina\")\n",
    "plt.yscale(\"log\")\n",
    "\n",
    "plt.xlabel(\"bits/n\")\n",
    "plt.ylabel(\"Grad Norm\")\n",
    "plt.legend()"
   ]
  },
  {
   "cell_type": "code",
   "execution_count": null,
   "metadata": {},
   "outputs": [],
   "source": []
  }
 ],
 "metadata": {
  "kernelspec": {
   "display_name": "tp",
   "language": "python",
   "name": "python3"
  },
  "language_info": {
   "codemirror_mode": {
    "name": "ipython",
    "version": 3
   },
   "file_extension": ".py",
   "mimetype": "text/x-python",
   "name": "python",
   "nbconvert_exporter": "python",
   "pygments_lexer": "ipython3",
   "version": "3.11.4"
  },
  "orig_nbformat": 4
 },
 "nbformat": 4,
 "nbformat_minor": 2
}
