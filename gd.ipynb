{
 "cells": [
  {
   "cell_type": "code",
   "execution_count": 1,
   "metadata": {},
   "outputs": [],
   "source": [
    "import torch\n",
    "import MiniFL as mfl"
   ]
  },
  {
   "cell_type": "code",
   "execution_count": 2,
   "metadata": {},
   "outputs": [],
   "source": [
    "def run_client(i:int, client: mfl.algorithms.gd.Client):\n",
    "    for _ in range(100):\n",
    "        loss = client.send_grad_get_loss()\n",
    "        # print(f\"Client {i}: {loss}\")\n",
    "        client.apply_global_step()\n",
    "        \n",
    "def run_master(master: mfl.algorithms.gd.Master):\n",
    "    for i in range(100):\n",
    "        print(f\"Master: {master.round()}\")"
   ]
  },
  {
   "cell_type": "code",
   "execution_count": 3,
   "metadata": {},
   "outputs": [],
   "source": [
    "from sklearn.datasets import load_svmlight_file\n",
    "\n",
    "NUM_CLIENTS = 20\n",
    "\n",
    "data, labels = load_svmlight_file(\"phishing.txt\")\n",
    "enc_labels = labels.copy()\n",
    "data_dense = data.todense()\n",
    "\n",
    "eval_data = (torch.from_numpy(data_dense).to(torch.float32), torch.from_numpy(enc_labels).to(torch.float32)[:, None])\n",
    "clients_data = [(x, y) for x, y in zip(torch.split(eval_data[0], len(eval_data[0]) // NUM_CLIENTS, dim=0), torch.split(eval_data[1], len(eval_data[1]) // NUM_CLIENTS, dim=0))]\n",
    "\n",
    "model = torch.nn.Linear(eval_data[0].shape[1], 1, bias=False)\n",
    "loss_fn = torch.nn.BCEWithLogitsLoss()\n",
    "\n",
    "master, clients = mfl.algorithms.gd.get_master_and_clients(\n",
    "    lr=200,\n",
    "    clients_data=clients_data,\n",
    "    eval_data=eval_data,\n",
    "    model=model,\n",
    "    loss_fn=loss_fn,\n",
    ")"
   ]
  },
  {
   "cell_type": "code",
   "execution_count": 4,
   "metadata": {},
   "outputs": [
    {
     "name": "stdout",
     "output_type": "stream",
     "text": [
      "Master: 0.6956520676612854\n",
      "Master: 0.6956655979156494\n",
      "Master: 0.6947044730186462\n",
      "Master: 0.6927826404571533\n",
      "Master: 0.6928551197052002\n",
      "Master: 0.6928449273109436\n",
      "Master: 0.6969215869903564\n",
      "Master: 0.6982445120811462\n",
      "Master: 0.6982307434082031\n",
      "Master: 0.6966410279273987\n",
      "Master: 0.697031557559967\n",
      "Master: 0.6968624591827393\n",
      "Master: 0.6968624591827393\n",
      "Master: 0.6969335079193115\n",
      "Master: 0.6969401240348816\n",
      "Master: 0.6976301074028015\n",
      "Master: 0.6975311040878296\n",
      "Master: 0.6976613402366638\n",
      "Master: 0.6913421750068665\n",
      "Master: 0.6915144324302673\n",
      "Master: 0.6910050511360168\n",
      "Master: 0.6899986267089844\n",
      "Master: 0.6910388469696045\n",
      "Master: 0.6910390853881836\n",
      "Master: 0.691039502620697\n",
      "Master: 0.6909781098365784\n",
      "Master: 0.6795223355293274\n",
      "Master: 0.6799498200416565\n",
      "Master: 0.677959680557251\n",
      "Master: 0.6779078841209412\n",
      "Master: 0.6780370473861694\n",
      "Master: 0.6772381663322449\n",
      "Master: 0.677409827709198\n",
      "Master: 0.676660418510437\n",
      "Master: 0.6774293184280396\n",
      "Master: 0.677143394947052\n",
      "Master: 0.6761600971221924\n",
      "Master: 0.6672141551971436\n",
      "Master: 0.6673557162284851\n",
      "Master: 0.6673869490623474\n",
      "Master: 0.6673933267593384\n",
      "Master: 0.6677314043045044\n",
      "Master: 0.6656458377838135\n",
      "Master: 0.6682352423667908\n",
      "Master: 0.6682422161102295\n",
      "Master: 0.6682422161102295\n",
      "Master: 0.6689763069152832\n",
      "Master: 0.6689759492874146\n",
      "Master: 0.6690453886985779\n",
      "Master: 0.6690384745597839\n",
      "Master: 0.6691288352012634\n",
      "Master: 0.6692326068878174\n",
      "Master: 0.6697140336036682\n",
      "Master: 0.668675422668457\n",
      "Master: 0.6568436026573181\n",
      "Master: 0.6570543646812439\n",
      "Master: 0.6572617292404175\n",
      "Master: 0.6572430729866028\n",
      "Master: 0.6575207710266113\n",
      "Master: 0.6577125191688538\n",
      "Master: 0.6579254269599915\n",
      "Master: 0.6463311314582825\n",
      "Master: 0.64582759141922\n",
      "Master: 0.6460122466087341\n",
      "Master: 0.6450440287590027\n",
      "Master: 0.645235002040863\n",
      "Master: 0.6452418565750122\n",
      "Master: 0.6452415585517883\n",
      "Master: 0.6422244906425476\n",
      "Master: 0.642753005027771\n",
      "Master: 0.642135500907898\n",
      "Master: 0.6419358253479004\n",
      "Master: 0.6429341435432434\n",
      "Master: 0.6428841352462769\n",
      "Master: 0.643008291721344\n",
      "Master: 0.6436641216278076\n",
      "Master: 0.632501482963562\n",
      "Master: 0.6217259764671326\n",
      "Master: 0.6216045022010803\n",
      "Master: 0.6217595338821411\n",
      "Master: 0.6233108043670654\n",
      "Master: 0.6235299706459045\n",
      "Master: 0.6128861904144287\n",
      "Master: 0.6136500835418701\n",
      "Master: 0.6057164669036865\n",
      "Master: 0.605023205280304\n",
      "Master: 0.6051355004310608\n",
      "Master: 0.6003828048706055\n",
      "Master: 0.5995382070541382\n",
      "Master: 0.5996884703636169\n",
      "Master: 0.6003063321113586\n",
      "Master: 0.6018496155738831\n",
      "Master: 0.6008096933364868\n",
      "Master: 0.600794792175293\n",
      "Master: 0.5988297462463379\n",
      "Master: 0.5988297462463379\n",
      "Master: 0.5988297462463379\n",
      "Master: 0.5993170738220215\n",
      "Master: 0.5988500118255615\n",
      "Master: 0.5979974269866943\n"
     ]
    }
   ],
   "source": [
    "import threading\n",
    "\n",
    "client_threads = []\n",
    "for i, client in enumerate(clients):\n",
    "    client_threads.append(threading.Thread(target=run_client, args=(i, client)))\n",
    "    client_threads[-1].start()\n",
    "    \n",
    "master_thread = threading.Thread(target=run_master, args=(master,))\n",
    "master_thread.start()\n",
    "\n",
    "master_thread.join()\n",
    "for t in client_threads:\n",
    "    t.join()\n",
    "    \n"
   ]
  },
  {
   "cell_type": "code",
   "execution_count": 6,
   "metadata": {},
   "outputs": [
    {
     "data": {
      "text/plain": [
       "3200"
      ]
     },
     "execution_count": 6,
     "metadata": {},
     "output_type": "execute_result"
    }
   ],
   "source": [
    "clients[0].data_sender.n_bits_passed"
   ]
  }
 ],
 "metadata": {
  "kernelspec": {
   "display_name": "tp",
   "language": "python",
   "name": "python3"
  },
  "language_info": {
   "codemirror_mode": {
    "name": "ipython",
    "version": 3
   },
   "file_extension": ".py",
   "mimetype": "text/x-python",
   "name": "python",
   "nbconvert_exporter": "python",
   "pygments_lexer": "ipython3",
   "version": "3.11.4"
  },
  "orig_nbformat": 4
 },
 "nbformat": 4,
 "nbformat_minor": 2
}
