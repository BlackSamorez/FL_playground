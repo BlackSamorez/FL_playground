{
 "cells": [
  {
   "cell_type": "code",
   "execution_count": 1,
   "metadata": {},
   "outputs": [],
   "source": [
    "import torch\n",
    "import MiniFL as mfl"
   ]
  },
  {
   "cell_type": "code",
   "execution_count": 2,
   "metadata": {},
   "outputs": [],
   "source": [
    "def run_client(i:int, client: mfl.algorithms.gd.GDClient):\n",
    "    client.prepare()\n",
    "    for _ in range(100):\n",
    "        _ = client.step()\n",
    "        \n",
    "def run_master(master: mfl.algorithms.gd.GDMaster):\n",
    "    master.prepare()\n",
    "    for i in range(100):\n",
    "        print(f\"Master: {master.step()}\")"
   ]
  },
  {
   "cell_type": "code",
   "execution_count": 3,
   "metadata": {},
   "outputs": [],
   "source": [
    "from sklearn.datasets import load_svmlight_file\n",
    "\n",
    "NUM_CLIENTS = 20\n",
    "\n",
    "data, labels = load_svmlight_file(\"phishing.txt\")\n",
    "enc_labels = labels.copy()\n",
    "data_dense = data.todense()\n",
    "\n",
    "\n",
    "eval_data = (torch.from_numpy(data_dense).to(torch.float32), torch.from_numpy(enc_labels).to(torch.float32)[:, None])\n",
    "partition_size = (len(eval_data[0]) - 1) // NUM_CLIENTS + 1\n",
    "clients_data = [(x, y) for x, y in zip(torch.split(eval_data[0], partition_size, dim=0), torch.split(eval_data[1], partition_size, dim=0))]\n",
    "\n",
    "model = torch.nn.Linear(eval_data[0].shape[1], 1, bias=False)\n",
    "loss_fn = torch.nn.BCEWithLogitsLoss()\n",
    "\n",
    "master, clients = mfl.algorithms.get_permk_marina_master_and_clients(\n",
    "    gamma=100,\n",
    "    clients_data=clients_data,\n",
    "    eval_data=eval_data,\n",
    "    model=model,\n",
    "    loss_fn=loss_fn,\n",
    "    p=0.01,\n",
    ")"
   ]
  },
  {
   "cell_type": "code",
   "execution_count": 4,
   "metadata": {},
   "outputs": [
    {
     "name": "stdout",
     "output_type": "stream",
     "text": [
      "Master: 0.6651992797851562\n",
      "Master: 0.6752034425735474\n",
      "Master: 0.6731503009796143\n",
      "Master: 0.6763127446174622\n",
      "Master: 0.6752164363861084\n",
      "Master: 0.6746255159378052\n",
      "Master: 0.6729355454444885\n",
      "Master: 0.6732591390609741\n",
      "Master: 0.6718555092811584\n",
      "Master: 0.671977698802948\n",
      "Master: 0.6720216870307922\n",
      "Master: 0.6720676422119141\n",
      "Master: 0.6720635890960693\n",
      "Master: 0.6720393300056458\n",
      "Master: 0.6720367670059204\n",
      "Master: 0.6720393300056458\n",
      "Master: 0.6720397472381592\n",
      "Master: 0.6720411777496338\n",
      "Master: 0.6720409393310547\n",
      "Master: 0.6720410585403442\n",
      "Master: 0.6720410585403442\n",
      "Master: 0.6720411777496338\n",
      "Master: 0.6720407605171204\n",
      "Master: 0.672040581703186\n",
      "Master: 0.6720402836799622\n",
      "Master: 0.6720399856567383\n",
      "Master: 0.6720404624938965\n",
      "Master: 0.6720405220985413\n",
      "Master: 0.6720404624938965\n",
      "Master: 0.6720404624938965\n",
      "Master: 0.6720405220985413\n",
      "Master: 0.6720405220985413\n",
      "Master: 0.6720405220985413\n",
      "Master: 0.6720405220985413\n",
      "Master: 0.6720405220985413\n",
      "Master: 0.6720405220985413\n",
      "Master: 0.6720405220985413\n",
      "Master: 0.6720405220985413\n",
      "Master: 0.6720405220985413\n",
      "Master: 0.6720405220985413\n",
      "Master: 0.6720405220985413\n",
      "Master: 0.6720405220985413\n",
      "Master: 0.6720405220985413\n",
      "Master: 0.6720405220985413\n",
      "Master: 0.6720405220985413\n",
      "Master: 0.6720405220985413\n",
      "Master: 0.6720405220985413\n",
      "Master: 0.6720405220985413\n",
      "Master: 0.6720405220985413\n",
      "Master: 0.6720405220985413\n",
      "Master: 0.6720405220985413\n",
      "Master: 0.6720405220985413\n",
      "Master: 0.6720405220985413\n",
      "Master: 0.6720405220985413\n",
      "Master: 0.6720405220985413\n",
      "Master: 0.6720405220985413\n",
      "Master: 0.6720405220985413\n",
      "Master: 0.6720405220985413\n",
      "Master: 0.6720405220985413\n",
      "Master: 0.6720405220985413\n",
      "Master: 0.6720405220985413\n",
      "Master: 0.6720405220985413\n",
      "Master: 0.6720405220985413\n",
      "Master: 0.6720405220985413\n",
      "Master: 0.6720405220985413\n",
      "Master: 0.6720405220985413\n",
      "Master: 0.6720405220985413\n",
      "Master: 0.6720405220985413\n",
      "Master: 0.6720405220985413\n",
      "Master: 0.6720405220985413\n",
      "Master: 0.6720405220985413\n",
      "Master: 0.6720405220985413\n",
      "Master: 0.6720405220985413\n",
      "Master: 0.6720405220985413\n",
      "Master: 0.6720405220985413\n",
      "Master: 0.6720405220985413\n",
      "Master: 0.6720405220985413\n",
      "Master: 0.6720405220985413\n",
      "Master: 0.6720405220985413\n",
      "Master: 0.6720405220985413\n",
      "Master: 0.6720405220985413\n",
      "Master: 0.6720405220985413\n",
      "Master: 0.6720405220985413\n",
      "Master: 0.6720405220985413\n",
      "Master: 0.646874189376831\n",
      "Master: 0.654803454875946\n",
      "Master: 0.6540939807891846\n",
      "Master: 0.6540824174880981\n",
      "Master: 0.6540992259979248\n",
      "Master: 0.6541138291358948\n",
      "Master: 0.6541130542755127\n",
      "Master: 0.6541182994842529\n",
      "Master: 0.6541203856468201\n",
      "Master: 0.65412437915802\n",
      "Master: 0.6541242003440857\n",
      "Master: 0.6313804388046265\n",
      "Master: 0.6308692097663879\n",
      "Master: 0.6302988529205322\n",
      "Master: 0.6305307149887085\n",
      "Master: 0.6304652690887451\n"
     ]
    }
   ],
   "source": [
    "import threading\n",
    "\n",
    "client_threads = []\n",
    "for i, client in enumerate(clients):\n",
    "    client_threads.append(threading.Thread(target=run_client, args=(i, client)))\n",
    "    client_threads[-1].start()\n",
    "    \n",
    "master_thread = threading.Thread(target=run_master, args=(master,))\n",
    "master_thread.start()\n",
    "\n",
    "master_thread.join()\n",
    "for t in client_threads:\n",
    "    t.join()\n",
    "    \n"
   ]
  },
  {
   "cell_type": "code",
   "execution_count": 5,
   "metadata": {},
   "outputs": [
    {
     "data": {
      "text/plain": [
       "16960"
      ]
     },
     "execution_count": 5,
     "metadata": {},
     "output_type": "execute_result"
    }
   ],
   "source": [
    "clients[0].data_sender.n_bits_passed"
   ]
  },
  {
   "cell_type": "code",
   "execution_count": null,
   "metadata": {},
   "outputs": [],
   "source": []
  }
 ],
 "metadata": {
  "kernelspec": {
   "display_name": "tp",
   "language": "python",
   "name": "python3"
  },
  "language_info": {
   "codemirror_mode": {
    "name": "ipython",
    "version": 3
   },
   "file_extension": ".py",
   "mimetype": "text/x-python",
   "name": "python",
   "nbconvert_exporter": "python",
   "pygments_lexer": "ipython3",
   "version": "3.11.4"
  },
  "orig_nbformat": 4
 },
 "nbformat": 4,
 "nbformat_minor": 2
}
