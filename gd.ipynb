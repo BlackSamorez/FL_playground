{
 "cells": [
  {
   "cell_type": "code",
   "execution_count": 1,
   "metadata": {},
   "outputs": [],
   "source": [
    "import torch\n",
    "import MiniFL as mfl"
   ]
  },
  {
   "cell_type": "code",
   "execution_count": 2,
   "metadata": {},
   "outputs": [],
   "source": [
    "def run_client(i:int, client: mfl.algorithms.gd.GDClient):\n",
    "    client.prepare()\n",
    "    for _ in range(100):\n",
    "        _ = client.step()\n",
    "        \n",
    "def run_master(master: mfl.algorithms.gd.GDMaster):\n",
    "    master.prepare()\n",
    "    for i in range(100):\n",
    "        print(f\"Master: {master.step()}\")"
   ]
  },
  {
   "cell_type": "code",
   "execution_count": 7,
   "metadata": {},
   "outputs": [],
   "source": [
    "from sklearn.datasets import load_svmlight_file\n",
    "\n",
    "NUM_CLIENTS = 20\n",
    "\n",
    "data, labels = load_svmlight_file(\"phishing.txt\")\n",
    "enc_labels = labels.copy()\n",
    "data_dense = data.todense()\n",
    "\n",
    "\n",
    "eval_data = (torch.from_numpy(data_dense).to(torch.float32), torch.from_numpy(enc_labels).to(torch.float32)[:, None])\n",
    "partition_size = (len(eval_data[0]) - 1) // NUM_CLIENTS + 1\n",
    "clients_data = [(x, y) for x, y in zip(torch.split(eval_data[0], partition_size, dim=0), torch.split(eval_data[1], partition_size, dim=0))]\n",
    "\n",
    "model = torch.nn.Linear(eval_data[0].shape[1], 1, bias=False)\n",
    "loss_fn = torch.nn.BCEWithLogitsLoss()\n",
    "\n",
    "master, clients = mfl.algorithms.get_marina_master_and_clients(\n",
    "    gamma=100,\n",
    "    clients_data=clients_data,\n",
    "    eval_data=eval_data,\n",
    "    model=model,\n",
    "    loss_fn=loss_fn,\n",
    "    compressors=[mfl.compressors.PermKUnbiasedCompressor(rank=rank, world_size=NUM_CLIENTS) for rank in range(NUM_CLIENTS)],\n",
    "    p=0.1,\n",
    ")"
   ]
  },
  {
   "cell_type": "code",
   "execution_count": 8,
   "metadata": {},
   "outputs": [
    {
     "name": "stdout",
     "output_type": "stream",
     "text": [
      "Master: 0.6530994772911072\n",
      "Master: 0.662650465965271\n",
      "Master: 0.6606312394142151\n",
      "Master: 0.6377838850021362\n",
      "Master: 0.6397221088409424\n",
      "Master: 0.6394876837730408\n",
      "Master: 0.6383771300315857\n",
      "Master: 0.636985182762146\n",
      "Master: 0.6371131539344788\n",
      "Master: 0.6359836459159851\n",
      "Master: 0.6359114646911621\n",
      "Master: 0.6359698176383972\n",
      "Master: 0.63599693775177\n",
      "Master: 0.6149914264678955\n",
      "Master: 0.6144819855690002\n",
      "Master: 0.6157960891723633\n",
      "Master: 0.615833580493927\n",
      "Master: 0.6157559752464294\n",
      "Master: 0.61569744348526\n",
      "Master: 0.6156364679336548\n",
      "Master: 0.6156364679336548\n",
      "Master: 0.6156404614448547\n",
      "Master: 0.6156342029571533\n",
      "Master: 0.6156347393989563\n",
      "Master: 0.6156372427940369\n",
      "Master: 0.6156644821166992\n",
      "Master: 0.6156615614891052\n",
      "Master: 0.6156803965568542\n",
      "Master: 0.5965217351913452\n",
      "Master: 0.5969430804252625\n",
      "Master: 0.5968382954597473\n",
      "Master: 0.5968732833862305\n",
      "Master: 0.5970098972320557\n",
      "Master: 0.596825361251831\n",
      "Master: 0.5968292951583862\n",
      "Master: 0.5968153476715088\n",
      "Master: 0.5791747570037842\n",
      "Master: 0.5785524845123291\n",
      "Master: 0.5785757303237915\n",
      "Master: 0.5785436034202576\n",
      "Master: 0.5785787105560303\n",
      "Master: 0.5784898996353149\n",
      "Master: 0.5785039663314819\n",
      "Master: 0.5785145163536072\n",
      "Master: 0.5621874928474426\n",
      "Master: 0.5622612833976746\n",
      "Master: 0.5622560977935791\n",
      "Master: 0.5622541308403015\n",
      "Master: 0.5622556805610657\n",
      "Master: 0.5622547268867493\n",
      "Master: 0.5622549653053284\n",
      "Master: 0.5622539520263672\n",
      "Master: 0.562254011631012\n",
      "Master: 0.562254011631012\n",
      "Master: 0.5622545480728149\n",
      "Master: 0.5622544884681702\n",
      "Master: 0.5622546076774597\n",
      "Master: 0.5622545480728149\n",
      "Master: 0.5622545480728149\n",
      "Master: 0.5622545480728149\n",
      "Master: 0.5622545480728149\n",
      "Master: 0.5622545480728149\n",
      "Master: 0.5622545480728149\n",
      "Master: 0.5622545480728149\n",
      "Master: 0.5622545480728149\n",
      "Master: 0.5622545480728149\n",
      "Master: 0.5622545480728149\n",
      "Master: 0.5622545480728149\n",
      "Master: 0.5622545480728149\n",
      "Master: 0.5622545480728149\n",
      "Master: 0.5622545480728149\n",
      "Master: 0.5622545480728149\n",
      "Master: 0.5622545480728149\n",
      "Master: 0.5622545480728149\n",
      "Master: 0.5622545480728149\n",
      "Master: 0.5622545480728149\n",
      "Master: 0.5622545480728149\n",
      "Master: 0.5622545480728149\n",
      "Master: 0.5471480488777161\n",
      "Master: 0.5486007332801819\n",
      "Master: 0.5486782193183899\n",
      "Master: 0.534583568572998\n",
      "Master: 0.534670352935791\n",
      "Master: 0.5346938967704773\n",
      "Master: 0.5215529203414917\n",
      "Master: 0.5226488709449768\n",
      "Master: 0.5226885080337524\n",
      "Master: 0.5225819945335388\n",
      "Master: 0.5226849317550659\n",
      "Master: 0.5227115750312805\n",
      "Master: 0.5227165818214417\n",
      "Master: 0.5227020978927612\n",
      "Master: 0.5226888656616211\n",
      "Master: 0.5226895809173584\n",
      "Master: 0.5226896405220032\n",
      "Master: 0.510370671749115\n",
      "Master: 0.5103000998497009\n",
      "Master: 0.5102332830429077\n",
      "Master: 0.5102363228797913\n",
      "Master: 0.5102367997169495\n"
     ]
    }
   ],
   "source": [
    "import threading\n",
    "\n",
    "client_threads = []\n",
    "for i, client in enumerate(clients):\n",
    "    client_threads.append(threading.Thread(target=run_client, args=(i, client)))\n",
    "    client_threads[-1].start()\n",
    "    \n",
    "master_thread = threading.Thread(target=run_master, args=(master,))\n",
    "master_thread.start()\n",
    "\n",
    "master_thread.join()\n",
    "for t in client_threads:\n",
    "    t.join()\n",
    "    \n"
   ]
  },
  {
   "cell_type": "code",
   "execution_count": 9,
   "metadata": {},
   "outputs": [
    {
     "data": {
      "text/plain": [
       "31424"
      ]
     },
     "execution_count": 9,
     "metadata": {},
     "output_type": "execute_result"
    }
   ],
   "source": [
    "clients[0].data_sender.n_bits_passed"
   ]
  },
  {
   "cell_type": "code",
   "execution_count": null,
   "metadata": {},
   "outputs": [],
   "source": []
  }
 ],
 "metadata": {
  "kernelspec": {
   "display_name": "tp",
   "language": "python",
   "name": "python3"
  },
  "language_info": {
   "codemirror_mode": {
    "name": "ipython",
    "version": 3
   },
   "file_extension": ".py",
   "mimetype": "text/x-python",
   "name": "python",
   "nbconvert_exporter": "python",
   "pygments_lexer": "ipython3",
   "version": "3.11.4"
  },
  "orig_nbformat": 4
 },
 "nbformat": 4,
 "nbformat_minor": 2
}
