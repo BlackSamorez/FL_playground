{
 "cells": [
  {
   "cell_type": "code",
   "execution_count": 1,
   "metadata": {},
   "outputs": [],
   "source": [
    "import torch\n",
    "import MiniFL as mfl"
   ]
  },
  {
   "cell_type": "code",
   "execution_count": 2,
   "metadata": {},
   "outputs": [],
   "source": [
    "def run_client(i:int, client: mfl.algorithms.gd.Client):\n",
    "    for _ in range(100):\n",
    "        loss = client.send_grad_get_loss()\n",
    "        # print(f\"Client {i}: {loss}\")\n",
    "        client.apply_global_step()\n",
    "        \n",
    "def run_master(master: mfl.algorithms.gd.Master):\n",
    "    for i in range(100):\n",
    "        print(f\"Master: {master.round()}\")"
   ]
  },
  {
   "cell_type": "code",
   "execution_count": 3,
   "metadata": {},
   "outputs": [],
   "source": [
    "from sklearn.datasets import load_svmlight_file\n",
    "\n",
    "NUM_CLIENTS = 20\n",
    "\n",
    "data, labels = load_svmlight_file(\"phishing.txt\")\n",
    "enc_labels = labels.copy()\n",
    "data_dense = data.todense()\n",
    "\n",
    "eval_data = (torch.from_numpy(data_dense).to(torch.float32), torch.from_numpy(enc_labels).to(torch.float32)[:, None])\n",
    "clients_data = [(x, y) for x, y in zip(torch.split(eval_data[0], len(eval_data[0]) // NUM_CLIENTS, dim=0), torch.split(eval_data[1], len(eval_data[1]) // NUM_CLIENTS, dim=0))]\n",
    "\n",
    "model = torch.nn.Linear(eval_data[0].shape[1], 1, bias=False)\n",
    "loss_fn = torch.nn.BCEWithLogitsLoss()\n",
    "\n",
    "master, clients = mfl.algorithms.gd.get_master_and_clients(\n",
    "    lr=200,\n",
    "    clients_data=clients_data,\n",
    "    eval_data=eval_data,\n",
    "    model=model,\n",
    "    loss_fn=loss_fn,\n",
    ")"
   ]
  },
  {
   "cell_type": "code",
   "execution_count": 4,
   "metadata": {},
   "outputs": [
    {
     "name": "stdout",
     "output_type": "stream",
     "text": [
      "Master: 0.6610914468765259\n",
      "Master: 0.6171865463256836\n",
      "Master: 0.590644896030426\n",
      "Master: 0.5646098256111145\n",
      "Master: 0.544524610042572\n",
      "Master: 0.5266827940940857\n",
      "Master: 0.5115221738815308\n",
      "Master: 0.49819308519363403\n",
      "Master: 0.48645859956741333\n",
      "Master: 0.47601619362831116\n",
      "Master: 0.46666380763053894\n",
      "Master: 0.45823439955711365\n",
      "Master: 0.45059579610824585\n",
      "Master: 0.4436403810977936\n",
      "Master: 0.4372800290584564\n",
      "Master: 0.4314415156841278\n",
      "Master: 0.4260633885860443\n",
      "Master: 0.4210938513278961\n",
      "Master: 0.41648876667022705\n",
      "Master: 0.4122101664543152\n",
      "Master: 0.4082253873348236\n",
      "Master: 0.4045061469078064\n",
      "Master: 0.4010276198387146\n",
      "Master: 0.3977680504322052\n",
      "Master: 0.3947083353996277\n",
      "Master: 0.39183151721954346\n",
      "Master: 0.3891226053237915\n",
      "Master: 0.3865681290626526\n",
      "Master: 0.384156197309494\n",
      "Master: 0.38187599182128906\n",
      "Master: 0.37971779704093933\n",
      "Master: 0.37767288088798523\n",
      "Master: 0.3757333755493164\n",
      "Master: 0.3738919794559479\n",
      "Master: 0.37214231491088867\n",
      "Master: 0.3704782724380493\n",
      "Master: 0.36889439821243286\n",
      "Master: 0.36738577485084534\n",
      "Master: 0.36594778299331665\n",
      "Master: 0.36457616090774536\n",
      "Master: 0.36326706409454346\n",
      "Master: 0.3620169162750244\n",
      "Master: 0.3608224093914032\n",
      "Master: 0.3596804141998291\n",
      "Master: 0.3585880398750305\n",
      "Master: 0.3575426936149597\n",
      "Master: 0.3565419614315033\n",
      "Master: 0.3555834889411926\n",
      "Master: 0.3546651601791382\n",
      "Master: 0.3537848889827728\n",
      "Master: 0.3529409170150757\n",
      "Master: 0.3521313965320587\n",
      "Master: 0.35135477781295776\n",
      "Master: 0.3506094813346863\n",
      "Master: 0.3498940169811249\n",
      "Master: 0.3492070734500885\n",
      "Master: 0.3485473394393921\n",
      "Master: 0.34791362285614014\n",
      "Master: 0.3473047912120819\n",
      "Master: 0.3467197120189667\n",
      "Master: 0.346157431602478\n",
      "Master: 0.34561702609062195\n",
      "Master: 0.34509745240211487\n",
      "Master: 0.3445979952812195\n",
      "Master: 0.34411776065826416\n",
      "Master: 0.3436559736728668\n",
      "Master: 0.34321191906929016\n",
      "Master: 0.34278497099876404\n",
      "Master: 0.3423742949962616\n",
      "Master: 0.34197941422462463\n",
      "Master: 0.3415996730327606\n",
      "Master: 0.3412345349788666\n",
      "Master: 0.34088337421417236\n",
      "Master: 0.34054577350616455\n",
      "Master: 0.3402211666107178\n",
      "Master: 0.3399091064929962\n",
      "Master: 0.33960917592048645\n",
      "Master: 0.3393208980560303\n",
      "Master: 0.33904382586479187\n",
      "Master: 0.33877769112586975\n",
      "Master: 0.3385220468044281\n",
      "Master: 0.33827653527259827\n",
      "Master: 0.3380407392978668\n",
      "Master: 0.33781448006629944\n",
      "Master: 0.3375973403453827\n",
      "Master: 0.3373890221118927\n",
      "Master: 0.3371892273426056\n",
      "Master: 0.33699774742126465\n",
      "Master: 0.336814284324646\n",
      "Master: 0.33663851022720337\n",
      "Master: 0.33647024631500244\n",
      "Master: 0.3363092541694641\n",
      "Master: 0.3361552953720093\n",
      "Master: 0.33600813150405884\n",
      "Master: 0.33586761355400085\n",
      "Master: 0.33573344349861145\n",
      "Master: 0.3356055021286011\n",
      "Master: 0.3354835510253906\n",
      "Master: 0.33536747097969055\n",
      "Master: 0.33525699377059937\n"
     ]
    }
   ],
   "source": [
    "import threading\n",
    "\n",
    "client_threads = []\n",
    "for i, client in enumerate(clients):\n",
    "    client_threads.append(threading.Thread(target=run_client, args=(i, client)))\n",
    "    client_threads[-1].start()\n",
    "    \n",
    "master_thread = threading.Thread(target=run_master, args=(master,))\n",
    "master_thread.start()\n",
    "\n",
    "master_thread.join()\n",
    "for t in client_threads:\n",
    "    t.join()\n",
    "    \n"
   ]
  },
  {
   "cell_type": "code",
   "execution_count": 5,
   "metadata": {},
   "outputs": [
    {
     "data": {
      "text/plain": [
       "217600"
      ]
     },
     "execution_count": 5,
     "metadata": {},
     "output_type": "execute_result"
    }
   ],
   "source": [
    "clients[0].data_sender.n_bits_passed"
   ]
  },
  {
   "cell_type": "code",
   "execution_count": null,
   "metadata": {},
   "outputs": [],
   "source": []
  }
 ],
 "metadata": {
  "kernelspec": {
   "display_name": "tp",
   "language": "python",
   "name": "python3"
  },
  "language_info": {
   "codemirror_mode": {
    "name": "ipython",
    "version": 3
   },
   "file_extension": ".py",
   "mimetype": "text/x-python",
   "name": "python",
   "nbconvert_exporter": "python",
   "pygments_lexer": "ipython3",
   "version": "3.11.4"
  },
  "orig_nbformat": 4
 },
 "nbformat": 4,
 "nbformat_minor": 2
}
