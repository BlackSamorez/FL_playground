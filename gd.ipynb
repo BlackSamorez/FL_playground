{
 "cells": [
  {
   "cell_type": "code",
   "execution_count": 1,
   "metadata": {},
   "outputs": [],
   "source": [
    "import torch\n",
    "import MiniFL as mfl"
   ]
  },
  {
   "cell_type": "code",
   "execution_count": 2,
   "metadata": {},
   "outputs": [],
   "source": [
    "def run_client(i:int, client: mfl.algorithms.gd.GDClient):\n",
    "    client.prepare()\n",
    "    for _ in range(100):\n",
    "        _ = client.step()\n",
    "        \n",
    "def run_master(master: mfl.algorithms.gd.GDMaster):\n",
    "    master.prepare()\n",
    "    for i in range(100):\n",
    "        print(f\"Master: {master.step()}\")"
   ]
  },
  {
   "cell_type": "code",
   "execution_count": 6,
   "metadata": {},
   "outputs": [],
   "source": [
    "from sklearn.datasets import load_svmlight_file\n",
    "\n",
    "NUM_CLIENTS = 20\n",
    "\n",
    "data, labels = load_svmlight_file(\"phishing.txt\")\n",
    "enc_labels = labels.copy()\n",
    "data_dense = data.todense()\n",
    "\n",
    "\n",
    "eval_data = (torch.from_numpy(data_dense).to(torch.float32), torch.from_numpy(enc_labels).to(torch.float32)[:, None])\n",
    "partition_size = (len(eval_data[0]) - 1) // NUM_CLIENTS + 1\n",
    "clients_data = [(x, y) for x, y in zip(torch.split(eval_data[0], partition_size, dim=0), torch.split(eval_data[1], partition_size, dim=0))]\n",
    "\n",
    "model = torch.nn.Linear(eval_data[0].shape[1], 1, bias=False)\n",
    "loss_fn = torch.nn.BCEWithLogitsLoss()\n",
    "\n",
    "master, clients = mfl.algorithms.get_permk_marina_master_and_clients(\n",
    "    gamma=100,\n",
    "    clients_data=clients_data,\n",
    "    eval_data=eval_data,\n",
    "    model=model,\n",
    "    loss_fn=loss_fn,\n",
    "    p=0.01,\n",
    ")"
   ]
  },
  {
   "cell_type": "code",
   "execution_count": 7,
   "metadata": {},
   "outputs": [
    {
     "name": "stdout",
     "output_type": "stream",
     "text": [
      "Master: 0.659458577632904\n",
      "Master: 0.6686608791351318\n",
      "Master: 0.6666728854179382\n",
      "Master: 0.669396698474884\n",
      "Master: 0.6685185432434082\n",
      "Master: 0.6677916646003723\n",
      "Master: 0.6662203669548035\n",
      "Master: 0.6665048599243164\n",
      "Master: 0.6651984453201294\n",
      "Master: 0.6652677655220032\n",
      "Master: 0.6653119325637817\n",
      "Master: 0.6653526425361633\n",
      "Master: 0.6653500199317932\n",
      "Master: 0.6653265953063965\n",
      "Master: 0.6653242707252502\n",
      "Master: 0.6653265953063965\n",
      "Master: 0.6653271913528442\n",
      "Master: 0.6653284430503845\n",
      "Master: 0.6653282642364502\n",
      "Master: 0.6653283834457397\n",
      "Master: 0.6653283834457397\n",
      "Master: 0.6653284430503845\n",
      "Master: 0.6653281450271606\n",
      "Master: 0.6653279066085815\n",
      "Master: 0.6653276681900024\n",
      "Master: 0.6653273701667786\n",
      "Master: 0.6653277277946472\n",
      "Master: 0.6653278470039368\n",
      "Master: 0.6653277277946472\n",
      "Master: 0.6653277277946472\n",
      "Master: 0.665327787399292\n",
      "Master: 0.6653278470039368\n",
      "Master: 0.6653278470039368\n",
      "Master: 0.6653278470039368\n",
      "Master: 0.6653278470039368\n",
      "Master: 0.6653278470039368\n",
      "Master: 0.6653278470039368\n",
      "Master: 0.6653278470039368\n",
      "Master: 0.6653278470039368\n",
      "Master: 0.6653278470039368\n",
      "Master: 0.6653278470039368\n",
      "Master: 0.6653278470039368\n",
      "Master: 0.6653278470039368\n",
      "Master: 0.6653278470039368\n",
      "Master: 0.6653278470039368\n",
      "Master: 0.6653278470039368\n",
      "Master: 0.6653278470039368\n",
      "Master: 0.6653278470039368\n",
      "Master: 0.6653278470039368\n",
      "Master: 0.6653278470039368\n",
      "Master: 0.6653278470039368\n",
      "Master: 0.6653278470039368\n",
      "Master: 0.6653278470039368\n",
      "Master: 0.6653278470039368\n",
      "Master: 0.6653278470039368\n",
      "Master: 0.6653278470039368\n",
      "Master: 0.6653278470039368\n",
      "Master: 0.6653278470039368\n",
      "Master: 0.6653278470039368\n",
      "Master: 0.6653278470039368\n",
      "Master: 0.6653278470039368\n",
      "Master: 0.6653278470039368\n",
      "Master: 0.6653278470039368\n",
      "Master: 0.6653278470039368\n",
      "Master: 0.6653278470039368\n",
      "Master: 0.6653278470039368\n",
      "Master: 0.6653278470039368\n",
      "Master: 0.6653278470039368\n",
      "Master: 0.6653278470039368\n",
      "Master: 0.6653278470039368\n",
      "Master: 0.6653278470039368\n",
      "Master: 0.6653278470039368\n",
      "Master: 0.6653278470039368\n",
      "Master: 0.6653278470039368\n",
      "Master: 0.6653278470039368\n",
      "Master: 0.6653278470039368\n",
      "Master: 0.6653278470039368\n",
      "Master: 0.6653278470039368\n",
      "Master: 0.6653278470039368\n",
      "Master: 0.6653278470039368\n",
      "Master: 0.6653278470039368\n",
      "Master: 0.6653278470039368\n",
      "Master: 0.6653278470039368\n",
      "Master: 0.6653278470039368\n",
      "Master: 0.641080379486084\n",
      "Master: 0.648387610912323\n",
      "Master: 0.6477179527282715\n",
      "Master: 0.6477082371711731\n",
      "Master: 0.6477250456809998\n",
      "Master: 0.647738516330719\n",
      "Master: 0.6477380394935608\n",
      "Master: 0.6477429270744324\n",
      "Master: 0.6477458477020264\n",
      "Master: 0.6477492451667786\n",
      "Master: 0.6477493047714233\n",
      "Master: 0.6256676912307739\n",
      "Master: 0.6250687837600708\n",
      "Master: 0.6245937347412109\n",
      "Master: 0.6247865557670593\n",
      "Master: 0.6247349977493286\n"
     ]
    }
   ],
   "source": [
    "import threading\n",
    "\n",
    "client_threads = []\n",
    "for i, client in enumerate(clients):\n",
    "    client_threads.append(threading.Thread(target=run_client, args=(i, client)))\n",
    "    client_threads[-1].start()\n",
    "    \n",
    "master_thread = threading.Thread(target=run_master, args=(master,))\n",
    "master_thread.start()\n",
    "\n",
    "master_thread.join()\n",
    "for t in client_threads:\n",
    "    t.join()\n",
    "    \n"
   ]
  },
  {
   "cell_type": "code",
   "execution_count": 8,
   "metadata": {},
   "outputs": [
    {
     "data": {
      "text/plain": [
       "16960"
      ]
     },
     "execution_count": 8,
     "metadata": {},
     "output_type": "execute_result"
    }
   ],
   "source": [
    "clients[0].data_sender.n_bits_passed"
   ]
  },
  {
   "cell_type": "code",
   "execution_count": null,
   "metadata": {},
   "outputs": [],
   "source": []
  }
 ],
 "metadata": {
  "kernelspec": {
   "display_name": "tp",
   "language": "python",
   "name": "python3"
  },
  "language_info": {
   "codemirror_mode": {
    "name": "ipython",
    "version": 3
   },
   "file_extension": ".py",
   "mimetype": "text/x-python",
   "name": "python",
   "nbconvert_exporter": "python",
   "pygments_lexer": "ipython3",
   "version": "3.11.4"
  },
  "orig_nbformat": 4
 },
 "nbformat": 4,
 "nbformat_minor": 2
}
