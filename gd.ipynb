{
 "cells": [
  {
   "cell_type": "code",
   "execution_count": 1,
   "metadata": {},
   "outputs": [],
   "source": [
    "import torch\n",
    "from torch import Tensor, nn\n",
    "from typing import Collection, Tuple, Mapping\n",
    "from queue import SimpleQueue\n",
    "from copy import deepcopy\n",
    "\n",
    "import MiniFL as mfl"
   ]
  },
  {
   "cell_type": "code",
   "execution_count": 2,
   "metadata": {},
   "outputs": [],
   "source": [
    "def run_client(i:int, client: mfl.algorithms.gd.Client):\n",
    "    for _ in range(10):\n",
    "        loss = client.send_grad_get_loss()\n",
    "        # print(f\"Client {i}: {loss}\")\n",
    "        client.apply_global_step()\n",
    "        \n",
    "def run_master(master: mfl.algorithms.gd.Master):\n",
    "    for i in range(10):\n",
    "        print(f\"Master: {master.round()}\")"
   ]
  },
  {
   "cell_type": "code",
   "execution_count": 3,
   "metadata": {},
   "outputs": [],
   "source": [
    "from sklearn.datasets import load_svmlight_file\n",
    "\n",
    "NUM_CLIENTS = 20\n",
    "\n",
    "data, labels = load_svmlight_file(\"phishing.txt\")\n",
    "enc_labels = labels.copy()\n",
    "data_dense = data.todense()\n",
    "\n",
    "eval_data = (torch.from_numpy(data_dense).to(torch.float32), torch.from_numpy(enc_labels).to(torch.float32)[:, None])\n",
    "clients_data = [(x, y) for x, y in zip(torch.split(eval_data[0], len(eval_data[0]) // NUM_CLIENTS, dim=0), torch.split(eval_data[1], len(eval_data[1]) // NUM_CLIENTS, dim=0))]\n",
    "\n",
    "model = torch.nn.Linear(eval_data[0].shape[1], 1, bias=False)\n",
    "loss_fn = torch.nn.BCEWithLogitsLoss()\n",
    "\n",
    "master, clients = mfl.algorithms.gd.get_master_and_clients(\n",
    "    lr=200,\n",
    "    clients_data=clients_data,\n",
    "    eval_data=eval_data,\n",
    "    model=model,\n",
    "    loss_fn=loss_fn,\n",
    ")"
   ]
  },
  {
   "cell_type": "code",
   "execution_count": 4,
   "metadata": {},
   "outputs": [
    {
     "name": "stdout",
     "output_type": "stream",
     "text": [
      "Master: 0.6609405875205994\n",
      "Master: 0.6145645380020142\n",
      "Master: 0.5900835990905762\n",
      "Master: 0.5639926791191101\n",
      "Master: 0.54451984167099\n",
      "Master: 0.5268865823745728\n",
      "Master: 0.5119572877883911\n",
      "Master: 0.49877506494522095\n",
      "Master: 0.4871557652950287\n",
      "Master: 0.47679805755615234\n"
     ]
    }
   ],
   "source": [
    "import threading\n",
    "\n",
    "client_threads = []\n",
    "for i, client in enumerate(clients):\n",
    "    client_threads.append(threading.Thread(target=run_client, args=(i, client)))\n",
    "    client_threads[-1].start()\n",
    "    \n",
    "master_thread = threading.Thread(target=run_master, args=(master,))\n",
    "master_thread.start()\n",
    "\n",
    "master_thread.join()\n",
    "for t in client_threads:\n",
    "    t.join()\n",
    "    \n"
   ]
  },
  {
   "cell_type": "code",
   "execution_count": 41,
   "metadata": {},
   "outputs": [],
   "source": [
    "import numpy as np\n",
    "import numpy.distutils.system_info as sysinfo\n",
    "from numpy import linalg as la\n",
    "\n",
    "import sys\n",
    "EPS = sys.float_info.epsilon * 2\n",
    "\n",
    "def exact(x): # No change\n",
    "    var = 0\n",
    "    bits = sysinfo.platform_bits * x.size\n",
    "    \n",
    "    return x, bits, var\n",
    "\n",
    "def signum(x): # For sign_GD\n",
    "    code = np.sign(x)\n",
    "    var = (la.norm(x - code) / la.norm(x))**2\n",
    "    bits = np.log2(3) * x.size\n",
    "    bits = int(np.ceil(bits))\n",
    "    \n",
    "    return np.sign(x), bits, var\n",
    "\n",
    "def tern_biased(aa, compute_var=True):\n",
    "    a = aa.copy()\n",
    "    L = np.max(np.abs(a))\n",
    "    a[a > L/2] = L\n",
    "    a[a < -L/2] = -L\n",
    "    a[np.abs(a) <= L/2] = 0\n",
    "    \n",
    "    bits = min(np.count_nonzero(a) * (1 + np.log2(a.size)), np.log2(3) * a.size)\n",
    "    bits = int(np.ceil(bits)) + sysinfo.platform_bits\n",
    "    if compute_var:\n",
    "        var = (la.norm(aa - a) / la.norm(aa))**2\n",
    "    else:\n",
    "        var = 0\n",
    "    \n",
    "    return a, bits, var\n",
    "\n",
    "def tern_unbiased(aa, norm=np.inf, compute_var=True):\n",
    "    a = aa.copy()\n",
    "    a_norm = la.norm(a, ord=norm)\n",
    "    prob = abs(a) / a_norm\n",
    "    a = np.sign(a) * a_norm * np.random.binomial(1, prob)\n",
    "    \n",
    "    bits = min(np.count_nonzero(a) * (1 + np.log2(a.size)), np.log2(3) * a.size)\n",
    "    bits = int(np.ceil(bits)) + sysinfo.platform_bits\n",
    "    \n",
    "    if compute_var:\n",
    "        var = (la.norm(aa - a) / la.norm(aa))**2\n",
    "    else:\n",
    "        var = 0\n",
    "    \n",
    "    return a, bits, var\n",
    "\n",
    "def random_sparsification(x, q=0.05): # q - fraction of nonzero elements\n",
    "    d = x.size\n",
    "    \n",
    "    mask = np.ones(d)\n",
    "    n_zeros = int(np.ceil(d * (1 - q)))\n",
    "    positions = np.random.choice(d, n_zeros, replace=False)\n",
    "    mask[positions] = 0\n",
    "    code = mask * x # * d / q\n",
    "\n",
    "    bits = (sysinfo.platform_bits) * (d - n_zeros)\n",
    "    bits = int(np.ceil(bits))\n",
    "    var = (la.norm(x - code) / la.norm(x))**2\n",
    "    \n",
    "    return code, bits, var\n",
    "\n",
    "\n",
    "def top_k(x, q=0.05): # q - fraction of nonzero elements\n",
    "    d = x.size\n",
    "    k = int(np.ceil(d * q))\n",
    "    \n",
    "    mask = np.ones(d)\n",
    "    compressed = np.ones(d)\n",
    "    compressed\n",
    "    \n",
    "    n_zeros = int(np.ceil(d * (1 - q)))\n",
    "    positions = np.argpartition(x, -k)[:-k]\n",
    "    mask[positions] = 0\n",
    "    code = mask * x # * d / q\n",
    "\n",
    "    bits = (sysinfo.platform_bits) * (d - n_zeros)\n",
    "    bits = int(np.ceil(bits))\n",
    "    var = (la.norm(x - code) / la.norm(x))**2\n",
    "    \n",
    "    return code, bits, var\n",
    "\n",
    "\n",
    "def natural_compression(x):\n",
    "    y = np.abs(x) #/ la.norm(x)\n",
    "    denominator = 2**np.floor(np.log2(y))\n",
    "    p = np.maximum((2**np.ceil(np.log2(y)) - y) / denominator, 0) #np.floor(np.log2(y))\n",
    "    code = np.sign(x) * denominator * (1 + np.random.binomial(1, 1 - p))\n",
    "    \n",
    "    if sysinfo.platform_bits == 64:\n",
    "        bits = 12 * x.size\n",
    "    else:\n",
    "        bits = 9 * x.size\n",
    "    \n",
    "    var = (la.norm(x - code) / la.norm(x))**2\n",
    "    \n",
    "    return code, bits, var\n",
    "\n",
    "\n",
    "def natural_dithering(x, s=10, norm=None, compr_norm=True):\n",
    "    bits = x.size * (2 + np.log2(s)) # (2 + s)\n",
    "    bits = int(np.ceil(bits))\n",
    "        \n",
    "    norm_x = la.norm(x, norm)\n",
    "    if norm_x < EPS:\n",
    "        return np.zeros_like(x), bits, 0\n",
    "    \n",
    "    y = np.abs(x) / norm_x\n",
    "    for k in range(y.size): # I guess it is possible to vectorize it.\n",
    "        if y[k] < EPS:\n",
    "            y[k] = 0\n",
    "        else:\n",
    "            i = int(np.floor(np.log2(y[k]) + s))\n",
    "\n",
    "            if i <= 0:\n",
    "                left_lvl = 0\n",
    "                right_lvl = 2**(1-s)\n",
    "            else:\n",
    "                left_lvl = 2**(i-s)\n",
    "                right_lvl = 2**(i+1-s)\n",
    "\n",
    "            prob = (right_lvl - y[k]) / (right_lvl - left_lvl)\n",
    "            y[k] = left_lvl if np.random.binomial(1, prob) else min(1, right_lvl) # xi\n",
    "            \n",
    "    if compr_norm:\n",
    "        compressed_norm, _, _ = natural_compression(norm_x)\n",
    "        if sysinfo.platform_bits == 64:\n",
    "            bits += 11\n",
    "        else:\n",
    "            bits += 8\n",
    "    else:\n",
    "        compressed_norm = norm_x\n",
    "        bits += sysinfo.platform_bits\n",
    "        \n",
    "    code = compressed_norm * np.sign(x) * y    \n",
    "    var = (la.norm(x - code) / la.norm(x))**2\n",
    "    \n",
    "    return code, bits, var"
   ]
  },
  {
   "cell_type": "code",
   "execution_count": 51,
   "metadata": {},
   "outputs": [],
   "source": [
    "sparse_variances = []\n",
    "sparse_bits = []\n",
    "for q in np.linspace(0.0001, 0.15, num=100):\n",
    "    for i in range(3):\n",
    "        _, bit, var = random_sparsification(np.random.normal(size=(1000,)), q=q)\n",
    "        sparse_variances.append(var)\n",
    "        sparse_bits.append(bit / 1000)"
   ]
  },
  {
   "cell_type": "code",
   "execution_count": 52,
   "metadata": {},
   "outputs": [],
   "source": [
    "top_variances = []\n",
    "top_bits = []\n",
    "for q in np.linspace(0.0001, 0.15, num=100):\n",
    "    for i in range(3):\n",
    "        _, bit, var = top_k(np.random.normal(size=(1000,)), q=q)\n",
    "        top_variances.append(var)\n",
    "        top_bits.append(bit / 1000)"
   ]
  },
  {
   "cell_type": "code",
   "execution_count": null,
   "metadata": {},
   "outputs": [],
   "source": [
    "nat_dith_variances = []\n",
    "nat_dith_bits = []\n",
    "for s in range(2, 20):\n",
    "    for i in range(3):\n",
    "        _, bit, var = natural_dithering(np.random.normal(size=(1000,)), s=s)\n",
    "        nat_dith_variances.append(var)\n",
    "        nat_dith_bits.append(bit / 1000)"
   ]
  },
  {
   "cell_type": "code",
   "execution_count": 53,
   "metadata": {},
   "outputs": [],
   "source": [
    "import matplotlib.pyplot as plt\n",
    "\n",
    "\n",
    "x = np.linspace(0, 9, num=100)\n",
    "y = 4**(-x)"
   ]
  },
  {
   "cell_type": "code",
   "execution_count": 54,
   "metadata": {},
   "outputs": [
    {
     "data": {
      "text/plain": [
       "Text(0, 0.5, 'normalized variance, $\\\\alpha$')"
      ]
     },
     "execution_count": 54,
     "metadata": {},
     "output_type": "execute_result"
    },
    {
     "data": {
      "image/png": "[encoded data removed]",
      "text/plain": [
       "<Figure size 640x480 with 1 Axes>"
      ]
     },
     "metadata": {},
     "output_type": "display_data"
    }
   ],
   "source": [
    "plt.scatter(sparse_bits, sparse_variances, color=\"y\")\n",
    "plt.scatter(top_bits, top_variances, color=\"orange\")\n",
    "\n",
    "plt.plot(x, y, linestyle=\"--\", color=\"red\")\n",
    "plt.grid()\n",
    "plt.xlabel(r\"average number of bits over coordinates, $b/d$\")\n",
    "plt.ylabel(r\"normalized variance, $\\alpha$\")"
   ]
  },
  {
   "cell_type": "code",
   "execution_count": null,
   "metadata": {},
   "outputs": [],
   "source": []
  }
 ],
 "metadata": {
  "kernelspec": {
   "display_name": "tp",
   "language": "python",
   "name": "python3"
  },
  "language_info": {
   "codemirror_mode": {
    "name": "ipython",
    "version": 3
   },
   "file_extension": ".py",
   "mimetype": "text/x-python",
   "name": "python",
   "nbconvert_exporter": "python",
   "pygments_lexer": "ipython3",
   "version": "3.9.13"
  },
  "orig_nbformat": 4
 },
 "nbformat": 4,
 "nbformat_minor": 2
}
